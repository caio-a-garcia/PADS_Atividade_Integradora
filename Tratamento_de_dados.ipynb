{
 "cells": [
  {
   "cell_type": "markdown",
   "id": "3303b899-a345-47f8-9559-bbed03fad017",
   "metadata": {
    "collapsed": false,
    "jupyter": {
     "outputs_hidden": false
    }
   },
   "source": [
    "![Insper](https://github.com/danielscarvalho/Insper-DS-Dicas/blob/master/Insper-Logo.png?raw=true)\n",
    "\n",
    "# Insper Pós-Graduação\n",
    "## Programa Avançado em Data Science e Decisão [»](https://www.insper.edu.br/pos-graduacao/programas-avancados/programa-avancado-em-data-science-e-decisao/)\n"
   ]
  },
  {
   "cell_type": "markdown",
   "id": "1dbcce7c-c18a-43b0-8295-52d057454821",
   "metadata": {
    "collapsed": false,
    "jupyter": {
     "outputs_hidden": false
    }
   },
   "source": [
    "# Atividade Integradora\n",
    "## Setup"
   ]
  },
  {
   "cell_type": "markdown",
   "id": "b476ae84-4912-4a47-80d0-6245e6c03579",
   "metadata": {
    "collapsed": false,
    "jupyter": {
     "outputs_hidden": false
    }
   },
   "source": [
    "### Dependências"
   ]
  },
  {
   "cell_type": "code",
   "execution_count": null,
   "id": "4f008409-a82d-4f34-9886-4c16702764a1",
   "metadata": {
    "collapsed": false,
    "jupyter": {
     "outputs_hidden": false
    }
   },
   "outputs": [],
   "source": [
    "import pandas as pd\n",
    "import numpy as np\n",
    "from dfply import *\n",
    "import altair as alt\n",
    "import missingno as msno\n",
    "from ydata_profiling import ProfileReport\n",
    "import matplotlib\n",
    "import matplotlib.pyplot as plt \n",
    "import math\n",
    "import seaborn as sns\n",
    "from sklearn import linear_model\n",
    "from sklearn.experimental import enable_iterative_imputer\n",
    "from sklearn.impute import IterativeImputer\n",
    "import statsmodels.api as sm"
   ]
  },
  {
   "cell_type": "markdown",
   "id": "e33ca872-77b7-4064-8541-4ff373f474cf",
   "metadata": {
    "collapsed": false,
    "jp-MarkdownHeadingCollapsed": true,
    "jupyter": {
     "outputs_hidden": false
    }
   },
   "source": [
    "### Carregamento dos Dados"
   ]
  },
  {
   "cell_type": "markdown",
   "id": "d1d3d1bb-1b15-409e-834b-be0a6790566b",
   "metadata": {
    "collapsed": false,
    "jupyter": {
     "outputs_hidden": false
    }
   },
   "source": [
    "Leitura da base de dados e do dicionários de dados"
   ]
  },
  {
   "cell_type": "code",
   "execution_count": null,
   "id": "1bb07a78-b503-4bd7-b5b9-8bc1d56331be",
   "metadata": {
    "collapsed": false,
    "jupyter": {
     "outputs_hidden": false
    }
   },
   "outputs": [],
   "source": [
    "data = pd.read_csv(\"cs_bisnode_panel.csv\")\n",
    "dicionario_de_dados_0 = pd.read_excel(\"bisnode_variable_names.xls\", header=4)"
   ]
  },
  {
   "cell_type": "markdown",
   "id": "1a68f1ef-863a-47b9-be12-d156e7be293e",
   "metadata": {
    "collapsed": false,
    "jupyter": {
     "outputs_hidden": false
    }
   },
   "source": [
    "Visualização inicial da base de dados"
   ]
  },
  {
   "cell_type": "code",
   "execution_count": null,
   "id": "0601d674-fc72-4f17-8dd4-7bbba85ba194",
   "metadata": {
    "collapsed": false,
    "jupyter": {
     "outputs_hidden": false
    }
   },
   "outputs": [],
   "source": [
    "data.head()"
   ]
  },
  {
   "cell_type": "code",
   "execution_count": null,
   "id": "31a6ebe3-4290-414e-b90b-41383e49e4e4",
   "metadata": {
    "collapsed": false,
    "jupyter": {
     "outputs_hidden": false
    }
   },
   "outputs": [],
   "source": [
    "data.describe()"
   ]
  },
  {
   "cell_type": "markdown",
   "id": "311ac09f-10c5-4969-ada7-4ea0fc6c2546",
   "metadata": {
    "collapsed": false,
    "jp-MarkdownHeadingCollapsed": true,
    "jupyter": {
     "outputs_hidden": false
    }
   },
   "source": [
    "## Dicionário de dados\n",
    "### Limpeza"
   ]
  },
  {
   "cell_type": "markdown",
   "id": "7e2fa695-6ff1-4497-92a4-912cf02508c5",
   "metadata": {
    "collapsed": false,
    "jupyter": {
     "outputs_hidden": false
    }
   },
   "source": [
    "Ao carregar o dicionário de dados a primeira coluna pega seu nome da quarta linha da tabela (argumento `header=4` acima). As outras três colunas são nomeadas abaixo."
   ]
  },
  {
   "cell_type": "code",
   "execution_count": null,
   "id": "0227d0af-10fc-4f3b-897d-c4f4ca18d1c1",
   "metadata": {
    "collapsed": false,
    "jupyter": {
     "outputs_hidden": false
    }
   },
   "outputs": [],
   "source": [
    "dicionario_de_dados_1 = dicionario_de_dados_0.rename({'Unnamed: 1': 'description',\n",
    "                                                      'Unnamed: 2': 'type',\n",
    "                                                      'Unnamed: 3': 'footnote'},\n",
    "                                                     axis=1)"
   ]
  },
  {
   "cell_type": "code",
   "execution_count": null,
   "id": "a4bea9bf-73ac-4df5-908e-fe5c53192ade",
   "metadata": {
    "collapsed": false,
    "jupyter": {
     "outputs_hidden": false
    }
   },
   "outputs": [],
   "source": [
    "dicionario_de_dados_1.columns"
   ]
  },
  {
   "cell_type": "markdown",
   "id": "285e2534-c6c3-4e68-b51a-34813ade605b",
   "metadata": {
    "collapsed": false,
    "jupyter": {
     "outputs_hidden": false
    }
   },
   "source": [
    "Então, retiramos as linhas não relevantes para a análise, incluindo linhas totalmente em branco e uma linha com informação de versão da base de dados: \n",
    " - `v 0.92. 2021-02-04`"
   ]
  },
  {
   "cell_type": "code",
   "execution_count": null,
   "id": "f36593db-a238-4629-84fb-7c55dcc4cdad",
   "metadata": {
    "collapsed": false,
    "jupyter": {
     "outputs_hidden": false
    }
   },
   "outputs": [],
   "source": [
    "dicionario_de_dados = dicionario_de_dados_1\\\n",
    "                       .drop(index=54)\\\n",
    "                       .dropna(how=\"all\")\\\n",
    "                       .reset_index()\\\n",
    "                       .drop('index', axis='columns')"
   ]
  },
  {
   "cell_type": "code",
   "execution_count": null,
   "id": "1271d66c-d6f4-4f3c-bc2f-45c2893ada6e",
   "metadata": {
    "collapsed": false,
    "jupyter": {
     "outputs_hidden": false
    }
   },
   "outputs": [],
   "source": [
    "dicionario_de_dados.sample(5)"
   ]
  },
  {
   "cell_type": "markdown",
   "id": "a6f9bf18-becc-4a60-99a9-99ffd696e39c",
   "metadata": {
    "collapsed": false,
    "jupyter": {
     "outputs_hidden": false
    }
   },
   "source": [
    "## Dados faltantes\n",
    "---\n",
    "\n",
    "###  Visualização\n",
    "Vamos verificar dados faltando do banco de dados:"
   ]
  },
  {
   "cell_type": "markdown",
   "id": "9063e8d3-f5bc-4f94-9648-66cc8320ea5f",
   "metadata": {
    "collapsed": false,
    "jupyter": {
     "outputs_hidden": false
    }
   },
   "source": [
    "Criação de função para analisar os dados faltantes."
   ]
  },
  {
   "cell_type": "code",
   "execution_count": null,
   "id": "fcba808c-502d-4a4a-a769-af0a0b225762",
   "metadata": {
    "collapsed": false,
    "jupyter": {
     "outputs_hidden": false
    }
   },
   "outputs": [],
   "source": [
    "def show_missing(df):\n",
    "    \"\"\"Return a Pandas dataframe describing the contents of a source dataframe including missing values.\"\"\"\n",
    "    \n",
    "    variables = []\n",
    "    dtypes = []\n",
    "    count = []\n",
    "    unique = []\n",
    "    missing = []\n",
    "    pc_missing = []\n",
    "    \n",
    "    for item in df.columns:\n",
    "        variables.append(item)\n",
    "        dtypes.append(df[item].dtype)\n",
    "        count.append(len(df[item]))\n",
    "        unique.append(len(df[item].unique()))\n",
    "        missing.append(df[item].isna().sum())\n",
    "        pc_missing.append(round((df[item].isna().sum() / len(df[item])) * 100, 2))\n",
    "\n",
    "    output = pd.DataFrame({\n",
    "        'variable': variables, \n",
    "        'dtype': dtypes,\n",
    "        'count': count,\n",
    "        'unique': unique,\n",
    "        'missing': missing, \n",
    "        'pc_missing': pc_missing\n",
    "    })    \n",
    "        \n",
    "    return output"
   ]
  },
  {
   "cell_type": "markdown",
   "id": "decd6fb9-a8aa-480e-8734-3c813b97707d",
   "metadata": {
    "collapsed": false,
    "jupyter": {
     "outputs_hidden": false
    }
   },
   "source": [
    "Verificando dados com maior falta de informações:"
   ]
  },
  {
   "cell_type": "code",
   "execution_count": null,
   "id": "7e0d32e9-c02e-487b-89cd-9f48505ad070",
   "metadata": {
    "collapsed": false,
    "jupyter": {
     "outputs_hidden": false
    }
   },
   "outputs": [],
   "source": [
    "missing_data = show_missing(data).sort_values('pc_missing', ascending=False, ignore_index = True)\n",
    "\n",
    "index_full_data = list(missing_data[missing_data['missing']==0].index)\n",
    "\n",
    "missing_data.drop(labels=index_full_data, axis='index', inplace=True)\n",
    "\n",
    "missing_data.head(10)"
   ]
  },
  {
   "cell_type": "code",
   "execution_count": null,
   "id": "70692797-cd1d-45e3-9c3e-a41b8f5f8faa",
   "metadata": {
    "collapsed": false,
    "jupyter": {
     "outputs_hidden": false
    }
   },
   "outputs": [],
   "source": [
    "missing_val_columns = missing_data['variable'][missing_data['pc_missing']>0]"
   ]
  },
  {
   "cell_type": "code",
   "execution_count": null,
   "id": "4ebf3715-ea63-4bf1-83fb-ce7111610063",
   "metadata": {
    "collapsed": false,
    "jupyter": {
     "outputs_hidden": false
    }
   },
   "outputs": [],
   "source": [
    "msno.bar(data[missing_val_columns], figsize=(16, 4))"
   ]
  },
  {
   "cell_type": "markdown",
   "id": "088e007b-e26b-4b5d-bbdf-8f4e7ae537ce",
   "metadata": {
    "collapsed": false,
    "jupyter": {
     "outputs_hidden": false
    }
   },
   "source": [
    "### Colunas com poucos dados\n",
    "Removemos aqui seis colunas tem mais de 90% de dados faltantes, removemos as colunas \"begin\" e \"end\" que contêm informação sobre o período a que os dados dizem respeito pois consideramos na análise essa mesma informação contida na variável \"year\". Removemos também as variáveis 'exit_year' e 'exit_data', visto que o encerrameto da empresa é definido com base na variável 'sales'."
   ]
  },
  {
   "cell_type": "code",
   "execution_count": null,
   "id": "01fc85e1-40ed-4a8a-afff-8782cb2d2a03",
   "metadata": {
    "collapsed": false,
    "jupyter": {
     "outputs_hidden": false
    }
   },
   "outputs": [],
   "source": [
    "columns_to_remove = ['COGS',\n",
    "                     'finished_prod',\n",
    "                     'net_dom_sales',\n",
    "                     'net_exp_sales',\n",
    "                     'wages',\n",
    "                     'D',\n",
    "                     'begin',\n",
    "                     'end',\n",
    "                     'exit_year',\n",
    "                     'exit_date'] \n",
    "\n",
    "data.drop(columns=columns_to_remove, inplace=True)\n",
    "\n",
    "data.columns"
   ]
  },
  {
   "cell_type": "markdown",
   "id": "8925f548-6d5c-4e59-aa1a-e462efe0d0cb",
   "metadata": {},
   "source": [
    "### \"founded_year\"\n",
    "Aproveitamos para tratar aqui a variável \"founded_year\" que utilizamos mais à frente na criação da feature \"company_age\"."
   ]
  },
  {
   "cell_type": "code",
   "execution_count": null,
   "id": "39f1a0f1-0fa9-4d2a-9f1a-a0aa1414a173",
   "metadata": {},
   "outputs": [],
   "source": [
    "missing_data.loc[missing_data['variable'].isin(['founded_year','founded_date'])]"
   ]
  },
  {
   "cell_type": "markdown",
   "id": "026618aa-d099-40ac-adfb-070d8eb4a26a",
   "metadata": {
    "collapsed": false,
    "jupyter": {
     "outputs_hidden": false
    }
   },
   "source": [
    "Convertemos 'founde_date' para datetime."
   ]
  },
  {
   "cell_type": "code",
   "execution_count": null,
   "id": "6c13c6f2-10c8-44a3-b207-9b7553c396ca",
   "metadata": {
    "collapsed": false,
    "jupyter": {
     "outputs_hidden": false
    }
   },
   "outputs": [],
   "source": [
    "data.dtypes['founded_date']"
   ]
  },
  {
   "cell_type": "code",
   "execution_count": null,
   "id": "6fd9db14-0794-49f0-94e4-211dc1f6a980",
   "metadata": {
    "collapsed": false,
    "jupyter": {
     "outputs_hidden": false
    }
   },
   "outputs": [],
   "source": [
    "data['founded_date'] = pd.to_datetime(data['founded_date'], format='%Y-%m-%d')\n",
    "\n",
    "data['founded_date'].dtypes"
   ]
  },
  {
   "cell_type": "markdown",
   "id": "07383433-6fce-4e3f-a371-68df7d8a44a6",
   "metadata": {
    "collapsed": false,
    "jupyter": {
     "outputs_hidden": false
    }
   },
   "source": [
    "Utilizamos a variável \"founded_date\" (que tem uma menor proporção de valores faltantes) para preencher alguns dos valores faltantes em \"founded_year\" (que tem a granularidade desejada para a análise)."
   ]
  },
  {
   "cell_type": "code",
   "execution_count": null,
   "id": "4cc24ec3-6207-4ac1-a950-33d451b1544e",
   "metadata": {},
   "outputs": [],
   "source": [
    "assert any(data.loc[(data['founded_date'].isna() & \n",
    "                     data['founded_year'].isna()),\n",
    "                    'comp_id'].count() ==\\\n",
    "           missing_data.loc[missing_data['variable'] == 'founded_date', 'missing'])"
   ]
  },
  {
   "cell_type": "markdown",
   "id": "9fe520fb-6aa4-4f35-8244-4f2280249e4c",
   "metadata": {},
   "source": [
    "As observações sem informação em \"founded_date\" também não tem informação para \"founded_year\" e são retiradas."
   ]
  },
  {
   "cell_type": "code",
   "execution_count": null,
   "id": "4e59fe14-c73f-43ba-955b-d908060db424",
   "metadata": {
    "collapsed": false,
    "jupyter": {
     "outputs_hidden": false
    }
   },
   "outputs": [],
   "source": [
    "# Remove linhas onde 'founded_date' é NaN\n",
    "data = data.dropna(subset=['founded_date'])\n",
    "\n",
    "# Extrai o ano de 'founded_date' e substitui os valores ausentes em 'founded_year'\n",
    "data['founded_year'] = data['founded_date'].dt.year\n",
    "\n",
    "# Descarta a coluna 'founded_date', pois o ano de fundação da empresa é suficiente\n",
    "data = data.drop(columns=['founded_date'])"
   ]
  },
  {
   "cell_type": "markdown",
   "id": "70668375-a326-4aa7-ab3f-9c108fe3aedc",
   "metadata": {
    "collapsed": false,
    "jupyter": {
     "outputs_hidden": false
    }
   },
   "source": [
    "### Checkpoint\n",
    "Análise dos percentuais de missing após os tratamentos."
   ]
  },
  {
   "cell_type": "code",
   "execution_count": null,
   "id": "a234d687-2f89-4099-b617-b127951b57a0",
   "metadata": {
    "collapsed": false,
    "jupyter": {
     "outputs_hidden": false
    }
   },
   "outputs": [],
   "source": [
    "missing_data2 = show_missing(data).sort_values('pc_missing', ascending=False, ignore_index = True)\n",
    "\n",
    "index_full_data = list(missing_data2[missing_data2['missing']==0].index)\n",
    "\n",
    "missing_data2.drop(labels=index_full_data, axis='index', inplace=True)\n",
    "\n",
    "missing_data2"
   ]
  },
  {
   "cell_type": "markdown",
   "id": "2ef56802-b3ad-426e-b0d2-bd51b7b384d6",
   "metadata": {
    "collapsed": false,
    "jupyter": {
     "outputs_hidden": false
    }
   },
   "source": [
    "### Colunas com dados quase completos"
   ]
  },
  {
   "cell_type": "markdown",
   "id": "21d05543-dc0c-461e-86e8-51c0df612705",
   "metadata": {
    "collapsed": false,
    "jupyter": {
     "outputs_hidden": false
    }
   },
   "source": [
    "Aqui tratamos as colunas com 5% ou menos dados faltantes. Primeiramente checamos se esses dados estão faltando nas mesmas observações ou se estão distribuidos em observações diferentes."
   ]
  },
  {
   "cell_type": "code",
   "execution_count": null,
   "id": "5207be2e-7b2a-479c-81c3-0b01d238d8ba",
   "metadata": {
    "collapsed": false,
    "jupyter": {
     "outputs_hidden": false
    }
   },
   "outputs": [],
   "source": [
    "# Lista de colunas com menos de 5% de dados ausentes\n",
    "\n",
    "cols = list(missing_data2['variable'][missing_data2['pc_missing']<5.0])\n",
    "\n",
    "# Verifica quais linhas possuem dados ausentes nessas colunas\n",
    "\n",
    "missing_rows = data[cols].isnull().any(axis=1)      \n",
    "\n",
    "# Calcula o percentual de linhas com dados ausentes\n",
    "\n",
    "pc_missing_rows = 100 * missing_rows.sum() / len(data)\n",
    "\n",
    "print(f'Percentual de linhas com dados ausentes em pelo menos uma das colunas mencionadas: {pc_missing_rows:.2f}%')"
   ]
  },
  {
   "cell_type": "code",
   "execution_count": null,
   "id": "4400c58d-6973-4384-a1fb-13e10038a92f",
   "metadata": {
    "collapsed": false,
    "jupyter": {
     "outputs_hidden": false
    }
   },
   "outputs": [],
   "source": [
    "# Remove variáveis com menos de 5% de dados ausentes\n",
    "removable_na_columns = list(missing_data2['variable'][missing_data2['pc_missing']<5.0])\n",
    "\n",
    "data.dropna(subset=removable_na_columns, inplace=True)"
   ]
  },
  {
   "cell_type": "markdown",
   "id": "028b9537-56a4-4427-96d6-4bd48dc4b563",
   "metadata": {
    "collapsed": false,
    "jupyter": {
     "outputs_hidden": false
    }
   },
   "source": [
    "Valores faltantes após os tratamentos."
   ]
  },
  {
   "cell_type": "code",
   "execution_count": null,
   "id": "24030959-bfa6-4e15-9b96-0bcf2ccf4b42",
   "metadata": {
    "collapsed": false,
    "jupyter": {
     "outputs_hidden": false
    }
   },
   "outputs": [],
   "source": [
    "missing_data_3 = show_missing(data).sort_values('pc_missing', ascending=False, ignore_index = True)\n",
    "\n",
    "index_full_data = list(missing_data_3[missing_data_3['missing']==0].index)\n",
    "\n",
    "missing_data_3.drop(labels=index_full_data, axis='index', inplace=True)\n",
    "\n",
    "missing_data_3"
   ]
  },
  {
   "cell_type": "code",
   "execution_count": null,
   "id": "5e615746-a782-4244-9118-b05d7cb29176",
   "metadata": {
    "collapsed": false,
    "jupyter": {
     "outputs_hidden": false
    }
   },
   "outputs": [],
   "source": [
    "msno.matrix(data)"
   ]
  },
  {
   "cell_type": "markdown",
   "id": "6a262618-f526-44e4-ad71-68ebceac74e9",
   "metadata": {},
   "source": [
    "A tabela mostra 6 variáveis com cerca de 20% de dados faltantes nesse ponto da análise, e o gráfico indica que essa ausência de dados coincide nas mesmas observações. Optamos por deixar essas observações apesar da coincidência de dados faltantes, e tratar as faltas mais abaixo."
   ]
  },
  {
   "cell_type": "markdown",
   "id": "3c4d242a-f270-4b6d-8f6f-36ba453ebe50",
   "metadata": {
    "collapsed": false,
    "jupyter": {
     "outputs_hidden": false
    }
   },
   "source": [
    "## Tratamento de demais variáveis com MICE"
   ]
  },
  {
   "cell_type": "markdown",
   "id": "d75c8c96-5e92-4aac-b0d9-c9155c02dfbc",
   "metadata": {
    "collapsed": false,
    "jupyter": {
     "outputs_hidden": false
    }
   },
   "source": [
    "Os demais valores ausentes são preenchidos utilizando o método MICE (Multiple Imputation by Chained Equations) com a biblioteca 'IterativeImputer' do sklearn. \n",
    "\n"
   ]
  },
  {
   "cell_type": "code",
   "execution_count": null,
   "id": "d703db1d",
   "metadata": {},
   "outputs": [],
   "source": [
    "data.reindex()"
   ]
  },
  {
   "cell_type": "markdown",
   "id": "84fb9d54",
   "metadata": {},
   "source": [
    "Antes de proceder com a imputação usando o método MICE, é importante converter certas variáveis para o tipo categórico. Isso garante que essas variáveis sejam tratadas de maneira adequada durante o processo de imputação."
   ]
  },
  {
   "cell_type": "code",
   "execution_count": null,
   "id": "91d2433c",
   "metadata": {},
   "outputs": [],
   "source": [
    "# Lista das colunas para transformar em categóricas\n",
    "colunas_para_converter = ['balsheet_flag', 'balsheet_notfullyear', 'gender', 'origin', 'ind2', 'ind', 'urban_m', 'region_m']\n",
    "\n",
    "# Convertendo as colunas para o tipo 'category'\n",
    "data[colunas_para_converter] = data[colunas_para_converter].astype('category')\n",
    "\n",
    "# Verificando os tipos das colunas após a conversão\n",
    "print(data[colunas_para_converter].dtypes)\n"
   ]
  },
  {
   "cell_type": "code",
   "execution_count": null,
   "id": "673336d5-368a-40b7-bada-a406c90e3ba7",
   "metadata": {
    "collapsed": false,
    "jupyter": {
     "outputs_hidden": false
    }
   },
   "outputs": [],
   "source": [
    "df_mice = data.copy()\n",
    "df_mice.head()"
   ]
  },
  {
   "cell_type": "code",
   "execution_count": null,
   "id": "6e79a179-ce7a-4266-ac91-b71be2d6f0e9",
   "metadata": {
    "collapsed": false,
    "jupyter": {
     "outputs_hidden": false
    }
   },
   "outputs": [],
   "source": [
    "# Copia o df_mice para criar variáveis dummy\n",
    "df_mice2 = df_mice.copy()\n",
    "df_mice2 = pd.get_dummies(df_mice2)"
   ]
  },
  {
   "cell_type": "code",
   "execution_count": null,
   "id": "d0b702f9",
   "metadata": {},
   "outputs": [],
   "source": [
    "# Define Input de MICE e preenche NaN \n",
    "\n",
    "mice_imputer = IterativeImputer(estimator=linear_model.BayesianRidge(), n_nearest_features=None, imputation_order='ascending')\n",
    "df_mice_imputed = pd.DataFrame(mice_imputer.fit_transform(df_mice2), columns=df_mice2.columns)"
   ]
  },
  {
   "cell_type": "code",
   "execution_count": null,
   "id": "62081e66-054e-44c2-88bb-ee2a9c99e3df",
   "metadata": {
    "collapsed": false,
    "jupyter": {
     "outputs_hidden": false
    }
   },
   "outputs": [],
   "source": [
    "df_mice_imputed.head()"
   ]
  },
  {
   "cell_type": "code",
   "execution_count": null,
   "id": "7f0d1835-ab07-4455-894b-1bf51c185dec",
   "metadata": {
    "collapsed": false,
    "jupyter": {
     "outputs_hidden": false
    }
   },
   "outputs": [],
   "source": [
    "missing_data_3 = show_missing(df_mice_imputed).sort_values(\"pc_missing\", ascending=False, ignore_index = True)\n",
    "\n",
    "missing_data_3"
   ]
  },
  {
   "cell_type": "code",
   "execution_count": null,
   "id": "85ba7024-c7e6-41a2-9350-8b1be42cbf4a",
   "metadata": {
    "collapsed": false,
    "jupyter": {
     "outputs_hidden": false
    }
   },
   "outputs": [],
   "source": [
    "# Verifica dados imputados \n",
    "\n",
    "# MICE imputação\n",
    "fig = plt.Figure()\n",
    "null_values = data['labor_avg'].isnull() \n",
    "fig = df_mice_imputed.plot(x='sales', y='labor_avg', kind='scatter',\n",
    "                           c=null_values, cmap='winter', s = 15,\n",
    "                           title='MICE Imputation', colorbar=False)"
   ]
  },
  {
   "cell_type": "code",
   "execution_count": null,
   "id": "faa09ebd-e9d2-4e4c-b0b9-b63057fbc315",
   "metadata": {
    "collapsed": false,
    "jupyter": {
     "outputs_hidden": false
    }
   },
   "outputs": [],
   "source": [
    "df_mice_imputed.columns"
   ]
  },
  {
   "cell_type": "markdown",
   "id": "3968ed2f-a04a-43ec-921a-f44a5a335bf2",
   "metadata": {
    "collapsed": false,
    "jupyter": {
     "outputs_hidden": false
    }
   },
   "source": [
    "Reverte o processo de pd.get_dummies com base no df_mice_imputed"
   ]
  },
  {
   "cell_type": "code",
   "execution_count": null,
   "id": "156cc97c",
   "metadata": {},
   "outputs": [],
   "source": [
    "missing_data_4 = show_missing(df_mice_imputed).sort_values(\"pc_missing\", ascending=False, ignore_index = True)\n",
    "\n",
    "missing_data_4.sort_values(by=\"variable\", ignore_index=True)"
   ]
  },
  {
   "cell_type": "markdown",
   "id": "17848742-c757-442a-925d-bed6e97df750",
   "metadata": {},
   "source": [
    "## Feature Engineering\n",
    "---"
   ]
  },
  {
   "cell_type": "markdown",
   "id": "0eb95cef-229c-4a63-b792-f9d4bc0134be",
   "metadata": {
    "collapsed": false,
    "jupyter": {
     "outputs_hidden": false
    }
   },
   "source": [
    "### Variável Dependente - Inatividade da Empresa\n",
    "Chamamos \"inativas\" aquelas empresas que não apresentam vendas nos dois anos seguintes ao ano observado.\\\n",
    "**Nota:** ativa = 0, inativa = 1"
   ]
  },
  {
   "cell_type": "code",
   "execution_count": null,
   "id": "97768d5c-5e5b-4ac3-bdb8-71fa788e2ffc",
   "metadata": {
    "collapsed": false,
    "jupyter": {
     "outputs_hidden": false
    }
   },
   "outputs": [],
   "source": [
    "# Ordena o DataFrame por empresa e ano\n",
    "df_mice_imputed.sort_values(by=['comp_id', 'year'], inplace=True)\n",
    "\n",
    "# Cria colunas deslocadas para checar vendas nos dois anos seguintes\n",
    "conditions_x1 = [((df_mice_imputed['comp_id'] == df_mice_imputed['comp_id'].shift(-1)) &\n",
    "                  (df_mice_imputed['year'] == df_mice_imputed['year'].shift(-1) - 1)),\n",
    "\n",
    "                 ((df_mice_imputed['comp_id'] != df_mice_imputed['comp_id'].shift(-1)) |\n",
    "                  df_mice_imputed['year'] != df_mice_imputed['year'].shift(-1))]\n",
    "\n",
    "values_x1 = [df_mice_imputed['sales'].shift(-1),\n",
    "             np.nan]\n",
    "\n",
    "df_mice_imputed['sales_x1'] = pd.Series(np.select(conditions_x1, values_x1)).fillna(0)\n",
    "\n",
    "\n",
    "conditions_x2 = [\n",
    "    ((df_mice_imputed['comp_id'] == df_mice_imputed['comp_id'].shift(-1)) &   \n",
    "     (df_mice_imputed['year'] == df_mice_imputed['year'].shift(-1) - 2)),\n",
    "\n",
    "    ((df_mice_imputed['comp_id'] == df_mice_imputed['comp_id'].shift(-2)) &\n",
    "     (df_mice_imputed['year'] == df_mice_imputed['year'].shift(-2) - 2)),\n",
    "\n",
    "    True\n",
    "]\n",
    "\n",
    "values_x2 = [df_mice_imputed['sales'].shift(-1),\n",
    "             df_mice_imputed['sales'].shift(-2),\n",
    "             np.nan]\n",
    "\n",
    "df_mice_imputed['sales_x2'] = pd.Series(np.select(conditions_x2, values_x2)).fillna(0)\n",
    "\n",
    "\n",
    "# Define condicao usada para identificar empresas que pararam de operar:\n",
    "#  - sem vendas por mais de 2 anos\n",
    "condition = ((df_mice_imputed['sales_x1'] == 0) & (df_mice_imputed['sales_x2'] == 0)) \n",
    "\n",
    "# Create a new 'dependente' column with 1 for ceased companies and 0 otherwise\n",
    "df_mice_imputed['fechado'] = condition.astype(int)"
   ]
  },
  {
   "cell_type": "markdown",
   "id": "a5413247-1afd-47c0-8a3b-8d6b5812aa9f",
   "metadata": {
    "collapsed": false,
    "jupyter": {
     "outputs_hidden": false
    }
   },
   "source": [
    "Vamos conferir os valores da variavel dependente para algumas empresas do dataframe:"
   ]
  },
  {
   "cell_type": "code",
   "execution_count": null,
   "id": "17415f69-c82a-4084-b873-aa40aa0764ad",
   "metadata": {
    "collapsed": false,
    "jupyter": {
     "outputs_hidden": false
    }
   },
   "outputs": [],
   "source": [
    "# lista de colunas para avaliação\n",
    "check_list = ['comp_id', 'year', 'sales', 'sales_x1', 'sales_x2', 'fechado']\n",
    "\n",
    "filtro = df_mice_imputed[check_list]\n",
    "filtro_sub = filtro[(filtro['comp_id'] == 464021159936) | (filtro['comp_id'] == 1001541)]\n",
    "\n",
    "filtro_sub"
   ]
  },
  {
   "cell_type": "code",
   "execution_count": null,
   "id": "6d832b06-3550-44a1-b7b6-e124e5333e48",
   "metadata": {
    "collapsed": false,
    "jupyter": {
     "outputs_hidden": false
    }
   },
   "outputs": [],
   "source": [
    "# Remodela os dados de vendas para tratar valores negativos\n",
    "df_mice_imputed['sales'] = np.where(df_mice_imputed['sales']<0, 0, df_mice_imputed['sales'])\n",
    "\n",
    "df_mice_imputed['fechado'] = condition.astype(int)"
   ]
  },
  {
   "cell_type": "code",
   "execution_count": null,
   "id": "31baad14-f931-4ca8-b891-ae53a0710303",
   "metadata": {
    "collapsed": false,
    "jupyter": {
     "outputs_hidden": false
    }
   },
   "outputs": [],
   "source": [
    "df_mice_imputed[check_list].describe()"
   ]
  },
  {
   "cell_type": "markdown",
   "id": "b1d70df0-19ef-435f-bc3d-9931eddbab23",
   "metadata": {
    "collapsed": false,
    "jupyter": {
     "outputs_hidden": false
    }
   },
   "source": [
    "Vamos averiguar agora os anos em que as empresas tiveram atividade e inatividade:"
   ]
  },
  {
   "cell_type": "code",
   "execution_count": null,
   "id": "0eb79214-94f3-4889-b748-776fb7345408",
   "metadata": {
    "collapsed": false,
    "jupyter": {
     "outputs_hidden": false
    }
   },
   "outputs": [],
   "source": [
    "# Converte \"comp_id\" para float antes de agrupar\n",
    "df_mice_imputed['comp_id'] = df_mice_imputed['comp_id'].astype(float)\n",
    "\n",
    "data_grouped = df_mice_imputed.groupby('comp_id')\n",
    "\n",
    "# Conta anos de acompanhamento\n",
    "comp_years = data_grouped['year'].count()\n",
    "\n",
    "# Conta anos com vendas\n",
    "sales_years = data_grouped.apply(lambda group: (group['sales'] > 0).sum())\n",
    "\n",
    "# Conta anos sem vendas\n",
    "no_sales_years = data_grouped.apply(lambda group: (group['sales'] == 0).sum())\n",
    "\n",
    "# Conta anos de \"inatividade\"\n",
    "inative_years = data_grouped.apply(lambda group: (group['fechado'] == 1).sum())"
   ]
  },
  {
   "cell_type": "code",
   "execution_count": null,
   "id": "7caa96e2-a4e2-442a-8791-997fc6134b65",
   "metadata": {
    "collapsed": false,
    "jupyter": {
     "outputs_hidden": false
    }
   },
   "outputs": [],
   "source": [
    "pd.options.display.float_format = '{:.1f}'.format\n",
    "\n",
    "activity_df = pd.DataFrame({'Total years':comp_years,\n",
    "                            'Sales years':sales_years, \n",
    "                            'No sales years':no_sales_years,\n",
    "                            'Inative years':inative_years}).reset_index()\n",
    "\n",
    "activity_df['comp_id'] = activity_df['comp_id'].astype(float)\n",
    "activity_df.head()"
   ]
  },
  {
   "cell_type": "markdown",
   "id": "9377307a-8424-487c-9767-bc0fd7cea7e3",
   "metadata": {},
   "source": [
    "## Seleção de subset para análise\n",
    "---\n",
    "A modelagem é feita em cima de um subset dos dados com o objetivo de adicionar foco à analise e facilitar o processamento por estar trabalhando com menor volume de dados. O escopo desse subset pode ser adaptado iterativamente, atendendo a demandas que surjam na análise."
   ]
  },
  {
   "cell_type": "markdown",
   "id": "e0535153-6754-4395-83f5-2de7d7e39eb7",
   "metadata": {
    "collapsed": false,
    "jupyter": {
     "outputs_hidden": false
    }
   },
   "source": [
    "### Removendo dados do ano 2016\n",
    "Registros do ano de 2016 são removidos do conjunto."
   ]
  },
  {
   "cell_type": "code",
   "execution_count": null,
   "id": "1d5a9327-3c06-43db-b05d-ead8df26af95",
   "metadata": {
    "collapsed": false,
    "jupyter": {
     "outputs_hidden": false
    }
   },
   "outputs": [],
   "source": [
    "df_mice_imputed = df_mice_imputed[df_mice_imputed['year']!=2016].copy()\n",
    "assert not any(df_mice_imputed[\"year\"] == 2016)"
   ]
  },
  {
   "cell_type": "markdown",
   "id": "bd912446-63b2-4747-8bfd-5efd534cc03c",
   "metadata": {
    "collapsed": false,
    "jupyter": {
     "outputs_hidden": false
    }
   },
   "source": [
    "### Ano"
   ]
  },
  {
   "cell_type": "code",
   "execution_count": null,
   "id": "75b667b9-6c5e-4531-a171-54bf0c92d3a0",
   "metadata": {
    "collapsed": false,
    "jupyter": {
     "outputs_hidden": false
    }
   },
   "outputs": [],
   "source": [
    "# Cria dataframe apenas com os dados do ano de 2012\n",
    "data_2012 = df_mice_imputed[df_mice_imputed['year'] == 2012].copy()\n",
    "\n",
    "assert data_2012.year.unique() == 2012 # verificando coluna de ano"
   ]
  },
  {
   "cell_type": "markdown",
   "id": "684cadeb-f458-4163-b7e2-461495d996de",
   "metadata": {},
   "source": [
    "### Tamanho da Empresa"
   ]
  },
  {
   "cell_type": "code",
   "execution_count": null,
   "id": "e7512ebd-286f-429d-886d-e7924e7a4a95",
   "metadata": {
    "collapsed": false,
    "jupyter": {
     "outputs_hidden": false
    }
   },
   "outputs": [],
   "source": [
    "# Considera apenas sales > 1000 e < 10000000\n",
    "data_2012 = data_2012[(data_2012['sales'] > 1000) & (data_2012['sales'] < 10000000) ]"
   ]
  },
  {
   "cell_type": "markdown",
   "id": "75682eff",
   "metadata": {},
   "source": [
    "Verificando colunas com valores negativos"
   ]
  },
  {
   "cell_type": "code",
   "execution_count": null,
   "id": "9b466f2c",
   "metadata": {},
   "outputs": [],
   "source": [
    "# Identificando colunas com valores númericos no data_2012\n",
    "numeric_cols_2012 = data_2012.select_dtypes(include=[np.number]).columns\n",
    "\n",
    "# Creando dicionário para armazenar colunas com valores negativos \n",
    "negative_values_2012 = {}\n",
    "\n",
    "# Iteração nas colunas númericas para encontrar valores negativos\n",
    "for col in numeric_cols_2012:\n",
    "    negative_count = (data_2012[col] < 0).sum()\n",
    "    if negative_count > 0:\n",
    "        negative_values_2012[col] = negative_count\n",
    "\n",
    "# Mostrar colunas com valores negativos e contagem de valores negativos\n",
    "negative_values_2012"
   ]
  },
  {
   "cell_type": "markdown",
   "id": "5d089374",
   "metadata": {},
   "source": [
    "Analisando as colunas com valores negativos, é constatado que faz sentido ter valores negativos nas colunas 'extra_profit_loss',  'inc_bef_tax', 'profit_loss_year' e  'share_eq'. Enquanto nas demais colunas, não faz sentido."
   ]
  },
  {
   "cell_type": "code",
   "execution_count": null,
   "id": "e5109fa9",
   "metadata": {},
   "outputs": [],
   "source": [
    "# Lista das colunas para verificar valores negativos, excluindo as colunas que fazem sentido ter valores negativos\n",
    "columns_to_check = [\n",
    "    'amort', 'curr_assets', 'curr_liab', 'extra_exp', 'extra_inc', \n",
    "    'intang_assets', 'inventories', 'liq_assets', 'material_exp', \n",
    "    'personnel_exp', 'subscribed_cap', 'labor_avg', \n",
    "    'sales_x1', 'sales_x2'\n",
    "]\n",
    "\n",
    "# Identificar as colunas que possuem valores negativos \n",
    "negative_rows = [data_2012[data_2012[col] < 0].index for col in columns_to_check]\n",
    "\n",
    "# Começar índice de valores negativos na primeira coluna \n",
    "all_negative_rows = set(negative_rows[0])\n",
    "\n",
    "# Unir os índices de valores negativos de todas as colunas\n",
    "for row_set in negative_rows[1:]:\n",
    "    all_negative_rows = all_negative_rows.union(row_set)\n",
    "\n",
    "# Número de linhas com qualquer valor negativo dessas colunas selecionadas \n",
    "len_all_negative_rows = len(all_negative_rows)\n",
    "\n",
    "# Calcular percentual de linhas com valores negativos\n",
    "percentage_any_negative = (len_all_negative_rows / len(data_2012)) * 100\n",
    "\n",
    "# Formatar o percentual e mostrar valor\n",
    "formatted_percentage_any_negative = \"{:.2f}%\".format(percentage_any_negative)\n",
    "print(formatted_percentage_any_negative)\n"
   ]
  },
  {
   "cell_type": "code",
   "execution_count": null,
   "id": "bd6e26e0",
   "metadata": {},
   "outputs": [],
   "source": [
    "# Para cada linha do index com valores negativos \n",
    "for row_idx in all_negative_rows:\n",
    "    # Para cada coluna específica\n",
    "    for col in columns_to_check:\n",
    "        # Se o valor for negativo, considere como igual a 0\n",
    "        if data_2012.at[row_idx, col] < 0:\n",
    "            data_2012.at[row_idx, col] = 0\n",
    "\n",
    "# Verificando se ainda tem valores negativos após o tratamento \n",
    "negative_values_after_correction = {col: data_2012[data_2012[col] < 0].shape[0] for col in columns_to_check}\n",
    "negative_values_after_correction"
   ]
  },
  {
   "cell_type": "markdown",
   "id": "a95164db-39c3-4c6a-9079-cfcb10024fd5",
   "metadata": {},
   "source": [
    "## Feature Engineering no Subset"
   ]
  },
  {
   "cell_type": "markdown",
   "id": "5f15f00e-3be5-4c11-8de5-7f4d2e6a0410",
   "metadata": {},
   "source": [
    "### Assimetria\n",
    "Nessa subsessão olhamos as medidas de assimetria das variáveis na nossa base. Para a presente análise tratamos apenas a variável \"sales\", criando outra variável a partir de seu logarítmo. A análise das demais variáveis é disponibilizada para interpretação e trabalho subsequente."
   ]
  },
  {
   "cell_type": "code",
   "execution_count": null,
   "id": "7c6a7b69-e9f8-4f45-b85c-2d96c50ba1ff",
   "metadata": {
    "collapsed": false,
    "jupyter": {
     "outputs_hidden": false
    }
   },
   "outputs": [],
   "source": [
    "# Filtra apenas colunas numéricas para calcular assimetria\n",
    "numeric_cols = data_2012.select_dtypes(include=[np.number]).columns # Avaliar a simetria das variáveis\n",
    "\n",
    "# Avalia a simetria das colunas numéricas\n",
    "skewness_values = data_2012[numeric_cols].skew()\n",
    "\n",
    "# Ordena os valores de assimetria do maior para o menor\n",
    "sorted_skewness_values = skewness_values.sort_values(ascending=False)\n",
    "\n",
    "# Mostra os valores de assimetria ordenados\n",
    "print(sorted_skewness_values)"
   ]
  },
  {
   "cell_type": "code",
   "execution_count": null,
   "id": "f1fd426f-4282-45cb-a8d8-9ab78bbff20c",
   "metadata": {
    "collapsed": false,
    "jupyter": {
     "outputs_hidden": false
    }
   },
   "outputs": [],
   "source": [
    "# Identifica colunas com assimetria significativamente diferente de zero\n",
    "cols_to_transform = skewness_values[skewness_values.abs() > 0.5].index\n",
    "print(cols_to_transform)"
   ]
  },
  {
   "cell_type": "markdown",
   "id": "a75faba3-9226-49c4-956a-2082c0923a09",
   "metadata": {
    "collapsed": false,
    "jupyter": {
     "outputs_hidden": false
    }
   },
   "source": [
    "Nas estatísticas descritivas abaixo, observa-se que a média é maior que o terceiro quartil, indicando uma distribuição bastante assimétrica. Criamos então uma coluna com o logarítmo de \"sales\" para auxiliar na análise."
   ]
  },
  {
   "cell_type": "code",
   "execution_count": null,
   "id": "2fc46eaf-8fbb-4399-81a5-78177a5ca8e4",
   "metadata": {
    "collapsed": false,
    "jupyter": {
     "outputs_hidden": false
    }
   },
   "outputs": [],
   "source": [
    "print(data_2012['sales'].describe())"
   ]
  },
  {
   "cell_type": "markdown",
   "id": "ea54217e-a198-4d9b-9851-ba190cdcdf91",
   "metadata": {
    "collapsed": false,
    "jupyter": {
     "outputs_hidden": false
    }
   },
   "source": [
    "A coluna log_sales mostra que, embora muitas empresas tenham vendas relativamente baixas (indicado por um logaritmo de vendas próximo ou igual a zero), há empresas que se destacam com vendas substancialmente mais altas."
   ]
  },
  {
   "cell_type": "code",
   "execution_count": null,
   "id": "9d98702d",
   "metadata": {},
   "outputs": [],
   "source": [
    "# Função para criar coluna com logaritmo da coluna argumento\n",
    "def criar_log(data_set, col):\n",
    "    new_col = 'log_' + col\n",
    "    data_set.loc[:,new_col] = data_set.loc[:,col]\\\n",
    "                                            .apply(lambda x: math.log(x)\\\n",
    "                                                   if x > 0\\\n",
    "                                                   else 0) "
   ]
  },
  {
   "cell_type": "code",
   "execution_count": null,
   "id": "1a8b584a",
   "metadata": {},
   "outputs": [],
   "source": [
    "criar_log(data_2012, 'sales')\n",
    "data_2012.log_sales.describe()"
   ]
  },
  {
   "cell_type": "markdown",
   "id": "3a708bf0-0ea4-42d9-9ae6-3a68a9cfd343",
   "metadata": {},
   "source": [
    "A descrição acima mostra valores mais simétricos para o logarítmo de \"sales\", quando comparado com \"sales\"."
   ]
  },
  {
   "cell_type": "markdown",
   "id": "909f7848-b647-494c-92a6-667f44afb79a",
   "metadata": {
    "collapsed": false,
    "jupyter": {
     "outputs_hidden": false
    }
   },
   "source": [
    "#### \"sales\" vs \"log_sales\""
   ]
  },
  {
   "cell_type": "code",
   "execution_count": null,
   "id": "449d062d-bc37-4b4e-9bbe-a00498c7f230",
   "metadata": {
    "collapsed": false,
    "jupyter": {
     "outputs_hidden": false
    }
   },
   "outputs": [],
   "source": [
    "# Cria histogramas\n",
    "plt.figure(figsize=(12, 6))\n",
    "\n",
    "# Histograma de sales\n",
    "plt.subplot(1, 2, 1)\n",
    "plt.hist(data_2012['sales'], bins=50, color='blue', edgecolor='black')\n",
    "plt.title('Histograma de Sales')\n",
    "plt.xlabel('Sales')\n",
    "plt.ylabel('Frequência')\n",
    "\n",
    "# Histograma de log_sales\n",
    "plt.subplot(1, 2, 2)\n",
    "plt.hist(data_2012['log_sales'], bins=50, color='green', edgecolor='black')\n",
    "plt.title('Histograma de Log de Sales')\n",
    "plt.xlabel('Log Sales')\n",
    "plt.ylabel('Frequência')\n",
    "\n",
    "plt.tight_layout()\n",
    "plt.show()\n"
   ]
  },
  {
   "cell_type": "markdown",
   "id": "f9e60b98-2553-4991-9245-45639a3c1d9c",
   "metadata": {
    "collapsed": false,
    "jupyter": {
     "outputs_hidden": false
    }
   },
   "source": [
    "#### Idade da Empresa"
   ]
  },
  {
   "cell_type": "code",
   "execution_count": null,
   "id": "e7de706e-e533-4b7f-b908-b41f01825b1a",
   "metadata": {
    "collapsed": false,
    "jupyter": {
     "outputs_hidden": false
    }
   },
   "outputs": [],
   "source": [
    "data_2012['company_age'] = 2012 - data_2012['founded_year']"
   ]
  },
  {
   "cell_type": "markdown",
   "id": "88a8f9bc-b950-4c4e-bc2d-bef3abdc1237",
   "metadata": {},
   "source": [
    "#### Outras Features"
   ]
  },
  {
   "cell_type": "markdown",
   "id": "886fe14d",
   "metadata": {},
   "source": [
    "A fim de aprimorar a precisão e eficácia de nosso modelo, estamos considerando a introdução de novas variáveis explanatórias. A motivação por trás dessa decisão é explorar a possibilidade de que certas variáveis, ainda não incluídas em nosso modelo, possam ter um impacto significativo no erro do modelo. Ao identificar e incorporar essas variáveis potencialmente influentes, esperamos não apenas reduzir o erro, mas também aumentar a robustez do modelo, tornando suas previsões mais confiáveis e precisas. Nos próximos passos, avaliaremos cada uma dessas variáveis, sua relevância e a maneira como elas podem ser integradas ao modelo existente."
   ]
  },
  {
   "cell_type": "code",
   "execution_count": null,
   "id": "3dc0bcc9",
   "metadata": {},
   "outputs": [],
   "source": [
    "# Definir função para que, se o denominador for igual a 0, retornar zero\n",
    "def safe_divide(numerator, denominator, default_value=0.0):\n",
    "    if denominator == 0:\n",
    "        return default_value\n",
    "    return numerator / denominator\n",
    "\n",
    "# Ajustar as novas variáveis com safe division \n",
    "data_2012[\"current_ratio\"] = data_2012.apply(lambda row: safe_divide(row[\"curr_assets\"], row[\"curr_liab\"]), axis=1)\n",
    "data_2012[\"profit_margin\"] = data_2012.apply(lambda row: safe_divide(row[\"profit_loss_year\"], row[\"sales\"]), axis=1)\n",
    "data_2012[\"debt_equity_ratio\"] = data_2012.apply(lambda row: safe_divide((row[\"liq_assets\"] - row[\"curr_liab\"]), row[\"share_eq\"]), axis=1)\n",
    "data_2012[\"asset_turnover\"] = data_2012.apply(lambda row: safe_divide(row[\"sales\"], (row[\"curr_assets\"] + row[\"fixed_assets\"])), axis=1)\n",
    "\n",
    "# Exibindo as primeiras linhas do df atualizado com as novas variáveis\n",
    "data_2012[[\"current_ratio\", \"profit_margin\", \"debt_equity_ratio\", \"asset_turnover\"]].head()"
   ]
  },
  {
   "cell_type": "markdown",
   "id": "de0548c8",
   "metadata": {},
   "source": [
    "### Liquidez"
   ]
  },
  {
   "cell_type": "markdown",
   "id": "c23aff41",
   "metadata": {},
   "source": [
    "A razão corrente (current_ratio), um indicador de liquidez, mede a capacidade de uma empresa de pagar suas obrigações de curto prazo usando ativos de curto prazo. Empresas com baixa liquidez podem ter dificuldades em cumprir suas obrigações financeiras imediatas, o que pode levar a problemas financeiros e aumentar o risco de encerramento no curto prazo."
   ]
  },
  {
   "cell_type": "code",
   "execution_count": null,
   "id": "aa8f4cce",
   "metadata": {},
   "outputs": [],
   "source": [
    "# Configurando as propriedades do gráfico\n",
    "plt.figure(figsize=(10, 6))\n",
    "\n",
    "# Histograma para empresas que não fecharam\n",
    "plt.hist(data_2012[\"current_ratio\"][data_2012['fechado'] == 0], bins=50, color='blue', alpha=0.7, label='Fechado = 0', density=True)\n",
    "\n",
    "# Histograma para empresas que fecharam\n",
    "plt.hist(data_2012[\"current_ratio\"][data_2012['fechado'] == 1], bins=50, color='red', alpha=0.7, label='Fechado = 1', density=True)\n",
    "\n",
    "# Definindo o título e os labels dos eixos\n",
    "plt.title('Distribuição da Liquidez por Status da Empresa')\n",
    "plt.xlabel('Liquidez (current_ratio)')\n",
    "plt.ylabel('Densidade') # Mostrar densidade ao invés da contagem, dado a diferença entre a qtd de empresas fechadas e abertas\n",
    "plt.legend()\n",
    "\n",
    "# Definindo o limite para o eixo x \n",
    "plt.xlim(-1000, 1000)\n",
    "\n",
    "# Mostrando o gráfico\n",
    "plt.show()"
   ]
  },
  {
   "cell_type": "code",
   "execution_count": null,
   "id": "0c2dfc1d",
   "metadata": {},
   "outputs": [],
   "source": [
    "# Separando os dados por grupo\n",
    "group_0 = data_2012[\"current_ratio\"][data_2012['fechado'] == 0]\n",
    "group_1 = data_2012[\"current_ratio\"][data_2012['fechado'] == 1]\n",
    "\n",
    "# Calculando as estatísticas\n",
    "stats_0 = {\n",
    "    'mean': group_0.mean(),\n",
    "    'median': group_0.median(),\n",
    "    'std_dev': group_0.std(),\n",
    "    'min': group_0.min(),\n",
    "    'max': group_0.max(),\n",
    "    '25_percentile': group_0.quantile(0.25),\n",
    "    '50_percentile': group_0.quantile(0.50),\n",
    "    '75_percentile': group_0.quantile(0.75),\n",
    "    'iqr': group_0.quantile(0.75) - group_0.quantile(0.25),\n",
    "    'mode': group_0.mode().iloc[0],  # Pega o primeiro valor da moda\n",
    "    'skewness': group_0.skew(),\n",
    "    'kurtosis': group_0.kurt(),\n",
    "    'sample_size': len(group_0)\n",
    "}\n",
    "\n",
    "stats_1 = {\n",
    "    'mean': group_1.mean(),\n",
    "    'median': group_1.median(),\n",
    "    'std_dev': group_1.std(),\n",
    "    'min': group_1.min(),\n",
    "    'max': group_1.max(),\n",
    "    '25_percentile': group_1.quantile(0.25),\n",
    "    '50_percentile': group_1.quantile(0.50),\n",
    "    '75_percentile': group_1.quantile(0.75),\n",
    "    'iqr': group_1.quantile(0.75) - group_1.quantile(0.25),\n",
    "    'mode': group_1.mode().iloc[0],  # Pega o primeiro valor da moda\n",
    "    'skewness': group_1.skew(),\n",
    "    'kurtosis': group_1.kurt(),\n",
    "    'sample_size': len(group_1)\n",
    "}\n",
    "\n",
    "# Criando DataFrames para exibir as estatísticas\n",
    "df_stats_0 = pd.DataFrame(stats_0, index=['Fechado = 0'])\n",
    "df_stats_1 = pd.DataFrame(stats_1, index=['Fechado = 1'])\n",
    "\n",
    "# Concatenando os DataFrames\n",
    "df_stats_current_ratio = pd.concat([df_stats_0, df_stats_1])\n",
    "\n",
    "df_stats_current_ratio"
   ]
  },
  {
   "cell_type": "markdown",
   "id": "7508eb23",
   "metadata": {},
   "source": [
    "Conforme evidenciado no histograma e nas estatísticas descritivas, destaca-se os pontos abaixo:\n",
    "- A liquidez média das empresas que não fecharam é ligeiramente superior às que fecharam. \n",
    "- A alta assimetria e curtose sugerem que existem algumas empresas com liquidez extremamente alta, o que está distorcendo a média.\n",
    "- O alto valor da moda em 0 indica que muitas empresas, em ambos os grupos, têm uma liquidez de zero."
   ]
  },
  {
   "cell_type": "markdown",
   "id": "00f117cc",
   "metadata": {},
   "source": [
    "### Margem de lucro"
   ]
  },
  {
   "cell_type": "markdown",
   "id": "649804af",
   "metadata": {},
   "source": [
    "A Margem de Lucro mede a porcentagem de lucro que uma empresa obtém de suas vendas. Empresas com margens de lucro baixas podem ter dificuldades em absorver choques financeiros ou econômicos. Uma margem de lucro consistentemente baixa pode indicar problemas operacionais ou de eficiência, aumentando o risco de a empresa fechar no futuro."
   ]
  },
  {
   "cell_type": "code",
   "execution_count": null,
   "id": "a98fca6b",
   "metadata": {},
   "outputs": [],
   "source": [
    "# Criar o violin plot da margem de lucro, separado por 'fechado'\n",
    "plt.figure(figsize=(10, 6))\n",
    "sns.violinplot(x=\"fechado\", y=\"profit_margin\", data=data_2012, palette={0: 'blue', 1: 'red'}, inner=\"quartile\")\n",
    "\n",
    "# Definir o título e os labels dos eixos\n",
    "plt.title('Margem de Lucro vs Fechado')\n",
    "plt.xlabel('Fechado')\n",
    "plt.ylabel('Margem de Lucro')\n",
    "plt.ylim(-50, 50)  # Definindo o limite para o eixo y\n",
    "\n",
    "# Mostar o gráfico\n",
    "plt.show()"
   ]
  },
  {
   "cell_type": "code",
   "execution_count": null,
   "id": "9d89097d",
   "metadata": {},
   "outputs": [],
   "source": [
    "# Separar os dados por grupo e por profit_margin\n",
    "group_0_profit_margin = data_2012[\"profit_margin\"][data_2012['fechado'] == 0]\n",
    "group_1_profit_margin = data_2012[\"profit_margin\"][data_2012['fechado'] == 1]\n",
    "\n",
    "# Calcular as estatísticas\n",
    "stats_0_profit_margin = {\n",
    "    'mean': group_0_profit_margin.mean(),\n",
    "    'median': group_0_profit_margin.median(),\n",
    "    'std_dev': group_0_profit_margin.std(),\n",
    "    'min': group_0_profit_margin.min(),\n",
    "    'max': group_0_profit_margin.max(),\n",
    "    '25_percentile': group_0_profit_margin.quantile(0.25),\n",
    "    '50_percentile': group_0_profit_margin.quantile(0.50),\n",
    "    '75_percentile': group_0_profit_margin.quantile(0.75),\n",
    "    'iqr': group_0_profit_margin.quantile(0.75) - group_0_profit_margin.quantile(0.25),\n",
    "    'mode': group_0_profit_margin.mode().iloc[0],  \n",
    "    'skewness': group_0_profit_margin.skew(),\n",
    "    'kurtosis': group_0_profit_margin.kurt(),\n",
    "    'sample_size': len(group_0_profit_margin)\n",
    "}\n",
    "\n",
    "stats_1_profit_margin = {\n",
    "    'mean': group_1_profit_margin.mean(),\n",
    "    'median': group_1_profit_margin.median(),\n",
    "    'std_dev': group_1_profit_margin.std(),\n",
    "    'min': group_1_profit_margin.min(),\n",
    "    'max': group_1_profit_margin.max(),\n",
    "    '25_percentile': group_1_profit_margin.quantile(0.25),\n",
    "    '50_percentile': group_1_profit_margin.quantile(0.50),\n",
    "    '75_percentile': group_1_profit_margin.quantile(0.75),\n",
    "    'iqr': group_1_profit_margin.quantile(0.75) - group_1_profit_margin.quantile(0.25),\n",
    "    'mode': group_1_profit_margin.mode().iloc[0],  \n",
    "    'skewness': group_1_profit_margin.skew(),\n",
    "    'kurtosis': group_1_profit_margin.kurt(),\n",
    "    'sample_size': len(group_1_profit_margin)\n",
    "}\n",
    "\n",
    "# Criar dataframe para exibir profit_margin\n",
    "df_stats_0_profit_margin = pd.DataFrame(stats_0_profit_margin, index=['Fechado = 0'])\n",
    "df_stats_1_profit_margin = pd.DataFrame(stats_1_profit_margin, index=['Fechado = 1'])\n",
    "\n",
    "# Concatenar DataFrames por profit_margin\n",
    "df_stats_profit_margin_final = pd.concat([df_stats_0_profit_margin, df_stats_1_profit_margin])\n",
    "\n",
    "df_stats_profit_margin_final"
   ]
  },
  {
   "cell_type": "markdown",
   "id": "65dd9b82",
   "metadata": {},
   "source": [
    "Conforme observado no gráfico e nas estatística descritivas, podemos inferir que a margem de lucro é uma variável importante a ser considerada ao analisar a sobrevivência de uma empresa. A margem de lucro média é negativa para ambas as categorias de empresas, mas as empresas que fecharam têm uma margem de lucro ligeiramente mais negativa em média. No entanto, a variabilidade nas margens de lucro é maior entre as empresas que permaneceram abertas. Isso sugere que, enquanto algumas empresas que permaneceram abertas podem estar enfrentando desafios financeiros, outras estão prosperando e gerando altos lucros."
   ]
  },
  {
   "cell_type": "markdown",
   "id": "2144adfc",
   "metadata": {},
   "source": [
    "### Relação Dívida/Patrimônio Líquido"
   ]
  },
  {
   "cell_type": "markdown",
   "id": "b1975c37",
   "metadata": {},
   "source": [
    "A Relação Dívida/Patrimônio Líquido indica quanto de financiamento a empresa obteve por dívida em relação ao seu patrimônio líquido. Uma alta relação pode sugerir que a empresa está excessivamente endividada, o que pode aumentar o risco financeiro. Empresas altamente endividadas podem enfrentar desafios em cumprir suas obrigações, especialmente em tempos de instabilidade econômica, elevando o risco de encerramento."
   ]
  },
  {
   "cell_type": "code",
   "execution_count": null,
   "id": "5a7d45c2",
   "metadata": {},
   "outputs": [],
   "source": [
    "plt.figure(figsize=(10, 6))\n",
    "\n",
    "sns.violinplot(x=\"fechado\", y=\"debt_equity_ratio\", data=data_2012, palette=\"Set3\", inner=\"quartile\")\n",
    "\n",
    "plt.title('Violinplot de Dívida/patrimônio líquido separado por Fechado')\n",
    "plt.xlabel('Fechado')\n",
    "plt.ylabel('Dívida/patrimônio líquido')\n",
    "plt.ylim(-500, 500)  # Definindo o limite para o eixo y\n",
    "\n",
    "plt.show()"
   ]
  },
  {
   "cell_type": "code",
   "execution_count": null,
   "id": "3bba96f1",
   "metadata": {},
   "outputs": [],
   "source": [
    "# Separar os dados por grupo\n",
    "group_0 = data_2012[\"debt_equity_ratio\"][data_2012['fechado'] == 0]\n",
    "group_1 = data_2012[\"debt_equity_ratio\"][data_2012['fechado'] == 1]\n",
    "\n",
    "# Calcular as estatísticas\n",
    "stats_0 = {\n",
    "    'mean': group_0.mean(),\n",
    "    'median': group_0.median(),\n",
    "    'std_dev': group_0.std(),\n",
    "    'min': group_0.min(),\n",
    "    'max': group_0.max(),\n",
    "    '25_percentile': group_0.quantile(0.25),\n",
    "    '50_percentile': group_0.quantile(0.50),\n",
    "    '75_percentile': group_0.quantile(0.75),\n",
    "    'iqr': group_0.quantile(0.75) - group_0.quantile(0.25),\n",
    "    'mode': group_0.mode().iloc[0],  # Pega o primeiro valor da moda\n",
    "    'skewness': group_0.skew(),\n",
    "    'kurtosis': group_0.kurt(),\n",
    "    'sample_size': len(group_0)\n",
    "}\n",
    "\n",
    "stats_1 = {\n",
    "    'mean': group_1.mean(),\n",
    "    'median': group_1.median(),\n",
    "    'std_dev': group_1.std(),\n",
    "    'min': group_1.min(),\n",
    "    'max': group_1.max(),\n",
    "    '25_percentile': group_1.quantile(0.25),\n",
    "    '50_percentile': group_1.quantile(0.50),\n",
    "    '75_percentile': group_1.quantile(0.75),\n",
    "    'iqr': group_1.quantile(0.75) - group_1.quantile(0.25),\n",
    "    'mode': group_1.mode().iloc[0],  # Pega o primeiro valor da moda\n",
    "    'skewness': group_1.skew(),\n",
    "    'kurtosis': group_1.kurt(),\n",
    "    'sample_size': len(group_1)\n",
    "}\n",
    "\n",
    "# Criar DataFrames para exibir as estatísticas\n",
    "df_stats_0 = pd.DataFrame(stats_0, index=['Fechado = 0'])\n",
    "df_stats_1 = pd.DataFrame(stats_1, index=['Fechado = 1'])\n",
    "\n",
    "# Concatenar os DataFrames\n",
    "df_stats_debt_equity_ratio = pd.concat([df_stats_0, df_stats_1])\n",
    "\n",
    "df_stats_debt_equity_ratio"
   ]
  },
  {
   "cell_type": "markdown",
   "id": "7ad3db03",
   "metadata": {},
   "source": [
    "A razão dívida/patrimônio líquido tem uma grande variação entre as empresas. Há uma presença significativa de valores negativos."
   ]
  },
  {
   "cell_type": "markdown",
   "id": "c86e3d0e",
   "metadata": {},
   "source": [
    "### Giro de Ativos"
   ]
  },
  {
   "cell_type": "markdown",
   "id": "a7381f6b",
   "metadata": {},
   "source": [
    "O Giro de Ativos mede a eficiência com que a empresa utiliza seus ativos para gerar vendas. Um giro de ativos baixo pode indicar ineficiência na utilização dos ativos. Empresas que não utilizam eficientemente seus ativos podem enfrentar dificuldades de crescimento e rentabilidade, o que pode influenciar negativamente sua viabilidade a longo prazo."
   ]
  },
  {
   "cell_type": "code",
   "execution_count": null,
   "id": "c23eb8a1",
   "metadata": {},
   "outputs": [],
   "source": [
    "# Criando o boxplot da margem de lucro, separado por 'fechado'\n",
    "sns.boxplot(x=data_2012['fechado'], y=np.log1p(data_2012[\"asset_turnover\"]))\n",
    "\n",
    "# Definindo o título e os labels dos eixos\n",
    "plt.title('Giro de Ativos vs Fechado')\n",
    "plt.xlabel('Fechado')\n",
    "plt.ylabel('Log Giro de Ativos')\n",
    "\n",
    "# Mostrando o gráfico\n",
    "plt.show()"
   ]
  },
  {
   "cell_type": "markdown",
   "id": "48b6037f",
   "metadata": {},
   "source": [
    "A razão dívida/patrimônio líquido tem uma grande variação entre as empresas. Há uma presença significativa de valores negativos, que podem ser outliers ou indicar uma situação financeira atípica. "
   ]
  },
  {
   "cell_type": "code",
   "execution_count": null,
   "id": "d353af12",
   "metadata": {},
   "outputs": [],
   "source": [
    "# Separando os dados por grupo para asset_turnover\n",
    "group_0 = data_2012[\"asset_turnover\"][data_2012['fechado'] == 0]\n",
    "group_1 = data_2012[\"asset_turnover\"][data_2012['fechado'] == 1]\n",
    "\n",
    "# Calculando as estatísticas\n",
    "stats_0 = {\n",
    "    'mean': group_0.mean(),\n",
    "    'median': group_0.median(),\n",
    "    'std_dev': group_0.std(),\n",
    "    'min': group_0.min(),\n",
    "    'max': group_0.max(),\n",
    "    '25_percentile': group_0.quantile(0.25),\n",
    "    '50_percentile': group_0.quantile(0.50),\n",
    "    '75_percentile': group_0.quantile(0.75),\n",
    "    'iqr': group_0.quantile(0.75) - group_0.quantile(0.25),\n",
    "    'mode': group_0.mode().iloc[0],  # Pega o primeiro valor da moda\n",
    "    'skewness': group_0.skew(),\n",
    "    'kurtosis': group_0.kurt(),\n",
    "    'sample_size': len(group_0)\n",
    "}\n",
    "\n",
    "stats_1 = {\n",
    "    'mean': group_1.mean(),\n",
    "    'median': group_1.median(),\n",
    "    'std_dev': group_1.std(),\n",
    "    'min': group_1.min(),\n",
    "    'max': group_1.max(),\n",
    "    '25_percentile': group_1.quantile(0.25),\n",
    "    '50_percentile': group_1.quantile(0.50),\n",
    "    '75_percentile': group_1.quantile(0.75),\n",
    "    'iqr': group_1.quantile(0.75) - group_1.quantile(0.25),\n",
    "    'mode': group_1.mode().iloc[0],  # Pega o primeiro valor da moda\n",
    "    'skewness': group_1.skew(),\n",
    "    'kurtosis': group_1.kurt(),\n",
    "    'sample_size': len(group_1)\n",
    "}\n",
    "\n",
    "# Criando DataFrames para exibir as estatísticas\n",
    "df_stats_0_asset_turnover = pd.DataFrame(stats_0, index=['Fechado = 0'])\n",
    "df_stats_1_asset_turnover = pd.DataFrame(stats_1, index=['Fechado = 1'])\n",
    "\n",
    "# Concatenando os DataFrames\n",
    "df_stats_asset_turnover = pd.concat([df_stats_0_asset_turnover, df_stats_1_asset_turnover])\n",
    "\n",
    "df_stats_asset_turnover\n"
   ]
  },
  {
   "cell_type": "markdown",
   "id": "534e21f2",
   "metadata": {},
   "source": [
    "Os dados sugerem que, embora a média do giro de ativos seja mais alta para empresas que fecharam, a mediana é semelhante entre os dois grupos. Além disso, a variabilidade no giro de ativos é significativamente maior para empresas que fecharam. A presença de valores extremos é evidente em ambos os grupos, mas é mais pronunciada para empresas que não fecharam."
   ]
  },
  {
   "cell_type": "markdown",
   "id": "4a8cefb7",
   "metadata": {},
   "source": [
    "É importante enfatizar que as análises apresentadas não determinam definitivamente quais variáveis devem ser incluídas no modelo. As quatro variáveis criadas servirão como opções a serem consideradas em diferentes modelos, e sua relevância será avaliada individualmente para cada um deles."
   ]
  },
  {
   "cell_type": "markdown",
   "id": "0bbaa579-5ae1-4a60-9e60-e85d3b130db1",
   "metadata": {},
   "source": [
    "## Limpeza de variáveis provisórias\n",
    "As variáveis \"sales_x1\" e \"sales_x2\" foram usadas na criação da variável dependente mas não são apropriadas para entrarem no modelo (constituiriam um data leak).\n",
    "Como filtramos pelo ano de 2012, tambem não usaremos a variável \"year\" na modelagem."
   ]
  },
  {
   "cell_type": "code",
   "execution_count": null,
   "id": "0f6547f7-6dd4-446f-9990-9814da787dc0",
   "metadata": {
    "collapsed": false,
    "jupyter": {
     "outputs_hidden": false
    }
   },
   "outputs": [],
   "source": [
    "data_2012 = data_2012.drop(columns=['sales_x1','sales_x2', 'year', 'nace_main', 'comp_id', 'sales', 'balsheet_length'])\n",
    "\n",
    "#data_2012 = data_2012.drop(columns=['sales_x1','sales_x2', 'year'])"
   ]
  },
  {
   "cell_type": "markdown",
   "id": "0f5e0c00-da95-4c9b-a0df-d8cb87847599",
   "metadata": {
    "collapsed": false,
    "jupyter": {
     "outputs_hidden": false
    }
   },
   "source": [
    "## Matriz de correlação"
   ]
  },
  {
   "cell_type": "code",
   "execution_count": null,
   "id": "962b231c-8fe8-4fcf-81a9-3fd072c63012",
   "metadata": {
    "collapsed": false,
    "jupyter": {
     "outputs_hidden": false
    }
   },
   "outputs": [],
   "source": [
    "# Considera apenas colunas numéricas\n",
    "numeric_cols = [col for col in data_2012.columns if data_2012[col].dtype in ['int64', 'float64']]\n",
    "\n",
    "# Remover 'comp_id' da lista de colunas numéricas\n",
    "if 'comp_id' in numeric_cols:\n",
    "    numeric_cols.remove('comp_id')\n",
    "\n",
    "# Lista todas as colunas numéricas exceto \"dependente\"\n",
    "cols = [col for col in numeric_cols if col != 'fechado']\n",
    "\n",
    "# Dividi as colunas em dois grupos\n",
    "half = len(cols) // 2\n",
    "group1 = cols[:half] + ['fechado']\n",
    "group2 = cols[half:] + ['fechado']\n",
    "\n",
    "# Cria as duas matrizes de correlação\n",
    "correlation_matrix1 = data_2012[group1].corr()\n",
    "correlation_matrix2 = data_2012[group2].corr()\n",
    "\n",
    "# Visualiza a primeira matriz de correlação\n",
    "plt.figure(figsize=(16,10))\n",
    "sns.heatmap(correlation_matrix1, annot=True, cmap='coolwarm')\n",
    "plt.title('Correlation Matrix - Group 1')\n",
    "plt.show()\n",
    "\n",
    "# Visualiza a segunda matriz de correlação\n",
    "plt.figure(figsize=(16,10))\n",
    "sns.heatmap(correlation_matrix2, annot=True, cmap='coolwarm')\n",
    "plt.title('Correlation Matrix - Group 2')\n",
    "plt.show()"
   ]
  },
  {
   "cell_type": "code",
   "execution_count": null,
   "id": "0b716441-c749-46ad-93eb-d4a9ae58cc8f",
   "metadata": {
    "collapsed": false,
    "jupyter": {
     "outputs_hidden": false
    }
   },
   "outputs": [],
   "source": [
    "missing_data_6 = show_missing(data_2012).sort_values(\"pc_missing\", ascending=False, ignore_index = True)\n",
    "\n",
    "missing_data_6.sort_values(by=\"variable\", ignore_index=True)"
   ]
  },
  {
   "cell_type": "markdown",
   "id": "811f34ca",
   "metadata": {},
   "source": [
    "Confirmamos que o banco de dados final gerado está completo, sem dados faltando através do processo de limpeza com alterações e remoções."
   ]
  },
  {
   "cell_type": "markdown",
   "id": "87750ba3",
   "metadata": {},
   "source": [
    "### Análise por agrupamento de variável dependente:\n",
    "---"
   ]
  },
  {
   "cell_type": "markdown",
   "id": "43fd455d",
   "metadata": {},
   "source": [
    "Vamos agrupar as empresas marcadas pela variável dependente (fechada) para buscar visualizar algumas das tendências das empresas que fecharam no ano de 2012:"
   ]
  },
  {
   "cell_type": "code",
   "execution_count": null,
   "id": "d025c77a",
   "metadata": {},
   "outputs": [],
   "source": [
    "# Filtrando apenas colunas numéricas\n",
    "numeric_data_2012 = data_2012.select_dtypes(include=[np.number])\n",
    "\n",
    "# Agrupando pelo campo \"fechado\"\n",
    "groups_2012 = numeric_data_2012.groupby(by=\"fechado\")\n",
    "\n",
    "# Realizando agregação\n",
    "df_groups = groups_2012.agg(['mean', 'median'])\n",
    "\n",
    "df_groups"
   ]
  },
  {
   "cell_type": "code",
   "execution_count": null,
   "id": "6a463576",
   "metadata": {},
   "outputs": [],
   "source": [
    "sns.boxplot(data=data_2012, x='fechado', y='company_age', \n",
    "            showfliers = False, medianprops = {\"color\":\"red\"})\n",
    "\n",
    "# Configuração do gráfico:\n",
    "plt.xlabel('Status de Operação (fechada)')\n",
    "plt.ylabel('Idade da empresa')\n",
    "plt.title('Idade de empresas fechadas vs abertas em 2012')\n",
    "\n",
    "# Show the plot\n",
    "plt.show()\n",
    "\n",
    "print(\"valores médios de idade da empresa:\")\n",
    "print(df_groups[\"company_age\"]['mean'])"
   ]
  },
  {
   "cell_type": "code",
   "execution_count": null,
   "id": "d1756d91",
   "metadata": {},
   "outputs": [],
   "source": [
    "def group_box(column, data = data_2012):\n",
    "    ''' Funcao para rodar boxplot agrupado '''\n",
    "    sns.boxplot(data=data, x='fechado', y=column, \n",
    "            showfliers = False, medianprops = {\"color\":\"red\"})\n",
    "\n",
    "    # Configuração do gráfico:\n",
    "    plt.xlabel('Status de Operação (fechada)')\n",
    "    plt.ylabel(f'Valor variável \"{column}\"')\n",
    "    plt.title('Análise agrupada {column}')\n",
    "\n",
    "    # Show the plot\n",
    "    plt.show()"
   ]
  },
  {
   "cell_type": "code",
   "execution_count": null,
   "id": "7284e04e",
   "metadata": {},
   "outputs": [],
   "source": [
    "fig, ax = plt.subplots(figsize=(10, 6))\n",
    "\n",
    "# Create histograms for each group using Seaborn\n",
    "sns.histplot(data=data_2012, x='company_age', hue='fechado', bins=20, alpha=0.5, ax=ax, kde=True)\n",
    "\n",
    "# Set labels and title\n",
    "ax.set_xlabel('Idade da empresa')\n",
    "ax.set_ylabel('Frequencia da Idade')\n",
    "ax.set_title('Histograma da Idade das empresas')\n",
    "\n",
    "# Show the plot\n",
    "plt.show()"
   ]
  },
  {
   "cell_type": "code",
   "execution_count": null,
   "id": "a34fde46",
   "metadata": {},
   "outputs": [],
   "source": [
    "def group_hist(column, data=data_2012):\n",
    "    ''' Funcao para gerar o histograma com linha de tendencia agrupado'''\n",
    "    \n",
    "    fig, ax = plt.subplots(figsize=(10, 6))\n",
    "\n",
    "    # Create histograms for each group using Seaborn\n",
    "    sns.histplot(data=data, x=column, hue='fechado', bins=20, alpha=0.5, ax=ax, kde=True)\n",
    "\n",
    "    # Set labels and title\n",
    "    ax.set_xlabel(f'valor da variável {column}')\n",
    "    ax.set_ylabel(f'Frequência da variável {column}')\n",
    "    ax.set_title(f'Histograma de {column}')\n",
    "\n",
    "    # Show the plot\n",
    "    plt.show()"
   ]
  },
  {
   "cell_type": "markdown",
   "id": "787bc631",
   "metadata": {},
   "source": [
    "O grupo de empresas abertas mostra cauda à direita mais substancial que as outras, indicando uma menor tendencia de empresas mais velhas fecharem relativo ao mesmo risco para empresas mais novas."
   ]
  },
  {
   "cell_type": "markdown",
   "id": "24e67636",
   "metadata": {},
   "source": [
    "#### Amortização"
   ]
  },
  {
   "cell_type": "code",
   "execution_count": null,
   "id": "4523b401",
   "metadata": {},
   "outputs": [],
   "source": [
    "group_box(\"amort\")\n",
    "group_hist(\"amort\")"
   ]
  },
  {
   "cell_type": "markdown",
   "id": "d773fed1",
   "metadata": {},
   "source": [
    "Vamos converter para log para conseguirmos analisar melhor as tendências"
   ]
  },
  {
   "cell_type": "code",
   "execution_count": null,
   "id": "6ba585ce",
   "metadata": {},
   "outputs": [],
   "source": [
    "criar_log(data_2012, \"amort\")\n",
    "\n",
    "group_box(\"log_amort\")\n",
    "group_hist(\"log_amort\")"
   ]
  },
  {
   "cell_type": "markdown",
   "id": "2bf28220",
   "metadata": {},
   "source": [
    "O logarítmo da amortização tem distribuição aparentemente normal com cauda à esquerda tanto para as empresas abertas quanto para as fechadas. A distribuição para as empresas abertas tem centro maior do que as outras, sugerindo que um maior valor para o logarítmo da amortização pode indicar maior probabilidade de a empresa estar aberta."
   ]
  },
  {
   "cell_type": "markdown",
   "id": "21d2fce1-6977-4943-afe5-a38985a27826",
   "metadata": {},
   "source": [
    "Tendo confirmado uma distribuição mais razoavel para o logarítmo de amortizacção do que para a variável original, tiramos \"amort\" da base e deixamos \"log_amort\"."
   ]
  },
  {
   "cell_type": "code",
   "execution_count": null,
   "id": "272eb9c4",
   "metadata": {},
   "outputs": [],
   "source": [
    "data_2012.drop(columns = \"amort\", inplace=True)"
   ]
  },
  {
   "cell_type": "code",
   "execution_count": null,
   "id": "d9f65bd5",
   "metadata": {},
   "outputs": [],
   "source": [
    "group_hist(\"ind\")"
   ]
  },
  {
   "cell_type": "markdown",
   "id": "96415b24",
   "metadata": {},
   "source": [
    "A proporção de empresas fechadas parece se manter por indústria. Dadas as diferenças de escala na quantidade de empresas por indústria, conferimos essas proporções numericamente."
   ]
  },
  {
   "cell_type": "code",
   "execution_count": null,
   "id": "26fa2675",
   "metadata": {},
   "outputs": [],
   "source": [
    "def proportion_1(column, data=data_2012):\n",
    "    '''Funcao retorna proporcao de fechado para cada caso'''\n",
    "\n",
    "    industry_effect = data_2012.groupby([\"fechado\", column])[column].count()\n",
    "\n",
    "    pivot_table = data_2012.pivot_table(index=column, columns='fechado', aggfunc='size', fill_value=0)\n",
    "\n",
    "    # calcular proporção\n",
    "    pivot_table['Proportion'] = pivot_table[1] / (pivot_table[0] + pivot_table[1])\n",
    "\n",
    "    # Reset the index to make 'ind' a regular column\n",
    "    # Resetando index para fazer \"ind\" uma coluna normal\n",
    "    pivot_table = pivot_table.reset_index()\n",
    "\n",
    "    # Renomeando por clareza\n",
    "    pivot_table.columns = [column, '0_Count', '1_Count', 'Proporcao_1']\n",
    "\n",
    "    return pivot_table"
   ]
  },
  {
   "cell_type": "code",
   "execution_count": null,
   "id": "12b34f65",
   "metadata": {},
   "outputs": [],
   "source": [
    "print(proportion_1(\"ind\"))"
   ]
  },
  {
   "cell_type": "markdown",
   "id": "cd4dd0dc",
   "metadata": {},
   "source": [
    "A analise dos números confirma proporcoes aproximadamente iguais de empresas fechadas para abertas por indústria, indicando baixo poder de previsão dessa variável. Por isso retiramos da base as duas variáveis referentes à industria."
   ]
  },
  {
   "cell_type": "code",
   "execution_count": null,
   "id": "edd28802-3732-4c37-8b3a-d6659d080f9f",
   "metadata": {},
   "outputs": [],
   "source": [
    "data_2012.drop(columns = [\"ind\",\"ind2\"], inplace=True)"
   ]
  },
  {
   "cell_type": "markdown",
   "id": "eb6580b7",
   "metadata": {},
   "source": [
    "Agora vamos ordenar por significancia nossas variáveis e verificar os resultados:"
   ]
  },
  {
   "cell_type": "markdown",
   "id": "3c5fdd40",
   "metadata": {},
   "source": [
    "Variáveis como \"comp_id\" número da impressa não deveriam interferir na predição pois são valores arbitrarios de registro de cada empresa."
   ]
  },
  {
   "cell_type": "markdown",
   "id": "b2006f88-38be-4d19-a53d-d36f62ca6d16",
   "metadata": {},
   "source": [
    "## Exportação da base tratada para modelagem"
   ]
  },
  {
   "cell_type": "code",
   "execution_count": null,
   "id": "20b842e4-3618-4bd1-9ba9-3b1018a09517",
   "metadata": {
    "collapsed": false,
    "jupyter": {
     "outputs_hidden": false
    }
   },
   "outputs": [],
   "source": [
    "data_2012.to_csv(\"data_2012.csv\", index=False)"
   ]
  },
  {
   "cell_type": "code",
   "execution_count": null,
   "id": "b8056a2f-c9fb-49f7-b9d5-c787511a9406",
   "metadata": {
    "collapsed": false,
    "jupyter": {
     "outputs_hidden": false
    }
   },
   "outputs": [],
   "source": [
    "data_2012.columns"
   ]
  }
 ],
 "metadata": {
  "kernelspec": {
   "display_name": "Python 3 (ipykernel)",
   "language": "python",
   "name": "python3"
  },
  "language_info": {
   "codemirror_mode": {
    "name": "ipython",
    "version": 3
   },
   "file_extension": ".py",
   "mimetype": "text/x-python",
   "name": "python",
   "nbconvert_exporter": "python",
   "pygments_lexer": "ipython3",
   "version": "3.11.5"
  },
  "name": "Tratamento_de_dados.ipynb"
 },
 "nbformat": 4,
 "nbformat_minor": 5
}
