{
 "cells": [
  {
   "cell_type": "markdown",
   "id": "620fef44-3bec-40ab-a027-2c28db71ee12",
   "metadata": {
    "collapsed": false
   },
   "source": [
    "![Insper](https://github.com/danielscarvalho/Insper-DS-Dicas/blob/master/Insper-Logo.png?raw=true)\n",
    "\n",
    "# Insper Pós-Graduação\n",
    "## Programa Avançado em Data Science e Decisão [»](https://www.insper.edu.br/pos-graduacao/programas-avancados/programa-avancado-em-data-science-e-decisao/)\n"
   ]
  },
  {
   "cell_type": "markdown",
   "id": "60213f86-4f70-4fb3-9473-d1037d5a24fa",
   "metadata": {
    "collapsed": false
   },
   "source": [
    "# Atividade Integradora\n",
    "## Setup"
   ]
  },
  {
   "cell_type": "markdown",
   "id": "cdd7e94f-2a73-4185-b324-2f70ef5e8178",
   "metadata": {
    "collapsed": false
   },
   "source": [
    "### Dependências"
   ]
  },
  {
   "cell_type": "code",
   "execution_count": 1,
   "id": "4c3a4c9c-ff73-43ea-9a8a-a6b3946b114b",
   "metadata": {
    "collapsed": false
   },
   "outputs": [],
   "source": [
    "import pandas as pd\n",
    "import numpy as np\n",
    "from dfply import *\n",
    "import altair as alt\n",
    "import missingno as msno"
   ]
  },
  {
   "cell_type": "markdown",
   "id": "2d6a1da2-3081-4430-95a1-e1e2a8fb5d49",
   "metadata": {
    "collapsed": false
   },
   "source": [
    "### Carregamento dos Dados"
   ]
  },
  {
   "cell_type": "code",
   "execution_count": 2,
   "id": "10aae61a-fd8e-44f7-8d8c-99532acf206d",
   "metadata": {
    "collapsed": false
   },
   "outputs": [],
   "source": [
    "data = pd.read_csv(\"cs_bisnode_panel.csv\")\n",
    "dicionario_de_dados_0 = pd.read_excel(\"bisnode_variable_names.xls\", header=4)"
   ]
  },
  {
   "cell_type": "markdown",
   "id": "be953f67-f0db-4c33-a578-107cad6c93fa",
   "metadata": {
    "collapsed": false
   },
   "source": [
    "data.head()"
   ]
  },
  {
   "cell_type": "markdown",
   "id": "05c3fcf8-7e51-472f-833c-db5e22f6bb84",
   "metadata": {
    "collapsed": false
   },
   "source": [
    "## Dicionário de Dados\n",
    "### Limpeza"
   ]
  },
  {
   "cell_type": "markdown",
   "id": "b548fe46-87db-4fac-9837-ff1366c6d537",
   "metadata": {
    "collapsed": false
   },
   "source": [
    "Ao carregar o dicionário de dados a primeira coluna pega seu nome da quarta linha da tabela (argumento `header=4` acima). As outras três colunas são nomeadas abaixo."
   ]
  },
  {
   "cell_type": "code",
   "execution_count": 3,
   "id": "f3f833bd-a698-409e-ba2c-0d1f6f69e7a8",
   "metadata": {
    "collapsed": false
   },
   "outputs": [],
   "source": [
    "dicionario_de_dados_1 = dicionario_de_dados_0.rename({'Unnamed: 1': 'description',\n",
    "                                                      'Unnamed: 2': 'type',\n",
    "                                                      'Unnamed: 3': 'footnote'},\n",
    "                                                     axis=1)"
   ]
  },
  {
   "cell_type": "code",
   "execution_count": null,
   "id": "969f3a80-b4b7-4a4d-b658-4624ec07bb15",
   "metadata": {
    "collapsed": false
   },
   "outputs": [],
   "source": [
    "dicionario_de_dados_1.columns"
   ]
  },
  {
   "cell_type": "markdown",
   "id": "d5e680f5-e351-4bb0-8e66-e16228e181b3",
   "metadata": {
    "collapsed": false
   },
   "source": [
    "Então retiramos as linhas não relevantes para a analize, incluindo linhas totalmente em branco e uma linha com informação de versão da base de dados: \n",
    " - `v 0.92. 2021-02-04`"
   ]
  },
  {
   "cell_type": "code",
   "execution_count": 4,
   "id": "0369c237-f54d-4709-a66e-2611d5d47329",
   "metadata": {
    "collapsed": false
   },
   "outputs": [],
   "source": [
    "dicionario_de_dados = dicionario_de_dados_1\\\n",
    "                       .drop(index=54)\\\n",
    "                       .dropna(how=\"all\")\\\n",
    "                       .reset_index()\\\n",
    "                       .drop('index', axis='columns')"
   ]
  },
  {
   "cell_type": "code",
   "execution_count": null,
   "id": "7128bed8-32cf-4585-bcb5-77dc75c22eb1",
   "metadata": {
    "collapsed": false
   },
   "outputs": [],
   "source": [
    "dicionario_de_dados.sample(5)"
   ]
  },
  {
   "cell_type": "markdown",
   "id": "51b41ee0",
   "metadata": {
    "collapsed": false
   },
   "source": [
    "## Dados\n",
    "### Removendo colunas específicas:"
   ]
  },
  {
   "cell_type": "code",
   "execution_count": 5,
   "id": "8b41c1e0",
   "metadata": {
    "collapsed": false
   },
   "outputs": [
    {
     "data": {
      "text/plain": [
       "Index(['comp_id', 'begin', 'end', 'amort', 'curr_assets', 'curr_liab',\n",
       "       'extra_exp', 'extra_inc', 'extra_profit_loss', 'fixed_assets',\n",
       "       'inc_bef_tax', 'intang_assets', 'inventories', 'liq_assets',\n",
       "       'material_exp', 'personnel_exp', 'profit_loss_year', 'sales',\n",
       "       'share_eq', 'subscribed_cap', 'tang_assets', 'balsheet_flag',\n",
       "       'balsheet_length', 'balsheet_notfullyear', 'year', 'founded_year',\n",
       "       'exit_year', 'ceo_count', 'foreign', 'female', 'birth_year',\n",
       "       'inoffice_days', 'gender', 'origin', 'nace_main', 'ind2', 'ind',\n",
       "       'urban_m', 'region_m', 'founded_date', 'exit_date', 'labor_avg'],\n",
       "      dtype='object')"
      ]
     },
     "execution_count": 5,
     "metadata": {},
     "output_type": "execute_result"
    }
   ],
   "source": [
    "columns_to_remove = ['COGS', 'finished_prod', 'net_dom_sales', 'net_exp_sales', 'wages', 'D']\n",
    "\n",
    "data.drop(columns=columns_to_remove, inplace=True)\n",
    "\n",
    "data.columns"
   ]
  },
  {
   "cell_type": "markdown",
   "id": "bd45aaa0",
   "metadata": {
    "collapsed": false
   },
   "source": [
    "### Removendo dados do ano 2016:\n",
    "\n",
    "Registros que começaram ou terminaram (ocorreram em) 2016 são removidos do conjunto."
   ]
  },
  {
   "cell_type": "code",
   "execution_count": 6,
   "id": "fa91abc9",
   "metadata": {
    "collapsed": false
   },
   "outputs": [
    {
     "data": {
      "text/plain": [
       "begin           object\n",
       "end             object\n",
       "founded_date    object\n",
       "exit_date       object\n",
       "dtype: object"
      ]
     },
     "execution_count": 6,
     "metadata": {},
     "output_type": "execute_result"
    }
   ],
   "source": [
    "colunas_data = [\"begin\", \"end\", \"founded_date\", \"exit_date\"]\n",
    "\n",
    "data.dtypes[colunas_data]"
   ]
  },
  {
   "cell_type": "markdown",
   "id": "f22d6c5c",
   "metadata": {
    "collapsed": false
   },
   "source": [
    "Dados destas colunas precisam estar em formato de datetime para serem operados corretamente, então vamos converte-los."
   ]
  },
  {
   "cell_type": "code",
   "execution_count": 7,
   "id": "8dfac4eb",
   "metadata": {
    "collapsed": false
   },
   "outputs": [
    {
     "data": {
      "text/plain": [
       "begin           datetime64[ns]\n",
       "end             datetime64[ns]\n",
       "founded_date    datetime64[ns]\n",
       "exit_date       datetime64[ns]\n",
       "dtype: object"
      ]
     },
     "execution_count": 7,
     "metadata": {},
     "output_type": "execute_result"
    }
   ],
   "source": [
    "for column in colunas_data:\n",
    "    data[column] = pd.to_datetime(data[column], format=\"%Y-%m-%d\")\n",
    "\n",
    "data[colunas_data].dtypes"
   ]
  },
  {
   "cell_type": "markdown",
   "id": "3aeeaf97",
   "metadata": {
    "collapsed": false
   },
   "source": [
    "Removendo Registros do ano de 2016:"
   ]
  },
  {
   "cell_type": "code",
   "execution_count": 8,
   "id": "4845059c",
   "metadata": {
    "collapsed": false
   },
   "outputs": [
    {
     "data": {
      "text/plain": [
       "array([2005, 2006, 2007, 2008, 2009, 2010, 2011, 2012, 2013, 2014, 2015])"
      ]
     },
     "execution_count": 8,
     "metadata": {},
     "output_type": "execute_result"
    }
   ],
   "source": [
    "data = data[data[\"year\"]!=2016]\n",
    "data[\"year\"].unique()"
   ]
  },
  {
   "cell_type": "markdown",
   "id": "4c5c548a",
   "metadata": {
    "collapsed": false
   },
   "source": [
    "### Criando coluna para Variável Dependente:\n",
    "---\n",
    "\n",
    "- Vamos operar com o conceito de \"atividade\", empresas que não tiveram atividade por mais de 2 anos são consideradas \"inativas\".\n",
    "\n",
    "Obs.: ativa = 0, inativa = 1"
   ]
  },
  {
   "cell_type": "code",
   "execution_count": 32,
   "id": "ce644ff2",
   "metadata": {
    "collapsed": false
   },
   "outputs": [],
   "source": [
    "# Sort the DataFrame by company and year\n",
    "data.sort_values(by=['comp_id', 'year'], inplace=True)\n",
    "\n",
    "\n",
    "# Create shifted columns to check sales in the following 2 years\n",
    "conditions_x1 = [((data['comp_id'] == data['comp_id'].shift(-1)) &\n",
    "                  (data['year'] == data['year'].shift(-1) - 1)),\n",
    "\n",
    "                 ((data['comp_id'] != data['comp_id'].shift(-1)) |\n",
    "                  data['year'] != data['year'].shift(-1))]\n",
    "\n",
    "values_x1 = [data['sales'].shift(-1),\n",
    "             np.nan]\n",
    "\n",
    "data['sales_x1'] = np.select(conditions_x1, values_x1)\n",
    "\n",
    "\n",
    "conditions_x2 = [\n",
    "    ((data['comp_id'] == data['comp_id'].shift(-1)) &\n",
    "     (data['year'] == data['year'].shift(-1) - 2)),\n",
    "\n",
    "    ((data['comp_id'] == data['comp_id'].shift(-2)) &\n",
    "     (data['year'] == data['year'].shift(-2) - 2)),\n",
    "\n",
    "    True\n",
    "]\n",
    "\n",
    "values_x2 = [data['sales'].shift(-1),\n",
    "             data['sales'].shift(-2),\n",
    "             np.nan]\n",
    "\n",
    "data['sales_x2'] = np.select(conditions_x2, values_x2)\n",
    "\n",
    "\n",
    "# data.loc[data['comp_id'] == data['comp_id'].shift(-1), 'sales_x1'] = data['sales'].shift(-1)\n",
    "# data.loc[data['comp_id'] == data['comp_id'].shift(-2), 'sales_x2'] = data['sales'].shift(-2)\n",
    "\n",
    "# Create a condition to identify companies that ceased to operate \n",
    "# (sem vendas por mais de 2 anos)\n",
    "condition = (data['sales_x1'] == 0) & (data['sales_x2'] == 0)\n",
    "\n",
    "# Create a new 'dependente' column with 1 for ceased companies and 0 otherwise\n",
    "data['dependente'] = condition.astype(int)\n"
   ]
  },
  {
   "cell_type": "markdown",
   "id": "ad8786ef",
   "metadata": {
    "collapsed": false
   },
   "source": [
    "Vamos observar as duas primeiras empresas da dataframe para averiguar seus estados de \"dependencia\":"
   ]
  },
  {
   "cell_type": "code",
   "execution_count": null,
   "id": "47c1ae21",
   "metadata": {
    "collapsed": false
   },
   "outputs": [],
   "source": [
    "# lista de colunas para avaliação:\n",
    "check_list=[\"comp_id\", \"year\", \"sales\", \"sales_x1\", \"sales_x2\", \"dependente\"]\n",
    "\n",
    "data[check_list].head(18)"
   ]
  },
  {
   "cell_type": "markdown",
   "id": "27cb2659",
   "metadata": {
    "collapsed": false
   },
   "source": [
    "Vamos averiguar agora os anos em que as empresas tiveram atividade e inatividade:"
   ]
  },
  {
   "cell_type": "code",
   "execution_count": 37,
   "id": "57165215",
   "metadata": {
    "collapsed": false
   },
   "outputs": [],
   "source": [
    "data_grouped = data.groupby('comp_id')\n",
    "\n",
    "#Contando anos de acompanhamento\n",
    "comp_years = data_grouped['year'].count()\n",
    "\n",
    "#Contando anos de \"atividade\"\n",
    "active_years = data_grouped.apply(lambda group: (group['sales'] > 0).sum())\n",
    "\n",
    "#contando anos de \"inatividade\"\n",
    "inactive_years = data_grouped.apply(lambda group: (group['sales'] == 0).sum())\n",
    "\n",
    "#Contando anos de \"dependência\"\n",
    "closed_years = data_grouped.apply(lambda group: (group['dependente'] == 1).sum())"
   ]
  },
  {
   "cell_type": "code",
   "execution_count": 38,
   "id": "0f73f8f2",
   "metadata": {
    "collapsed": false
   },
   "outputs": [
    {
     "data": {
      "text/html": [
       "<div>\n",
       "<style scoped>\n",
       "    .dataframe tbody tr th:only-of-type {\n",
       "        vertical-align: middle;\n",
       "    }\n",
       "\n",
       "    .dataframe tbody tr th {\n",
       "        vertical-align: top;\n",
       "    }\n",
       "\n",
       "    .dataframe thead th {\n",
       "        text-align: right;\n",
       "    }\n",
       "</style>\n",
       "<table border=\"1\" class=\"dataframe\">\n",
       "  <thead>\n",
       "    <tr style=\"text-align: right;\">\n",
       "      <th></th>\n",
       "      <th>Total years</th>\n",
       "      <th>Active years</th>\n",
       "      <th>Inactive years</th>\n",
       "      <th>Closed years</th>\n",
       "    </tr>\n",
       "    <tr>\n",
       "      <th>comp_id</th>\n",
       "      <th></th>\n",
       "      <th></th>\n",
       "      <th></th>\n",
       "      <th></th>\n",
       "    </tr>\n",
       "  </thead>\n",
       "  <tbody>\n",
       "    <tr>\n",
       "      <th>1.001034e+06</th>\n",
       "      <td>11</td>\n",
       "      <td>6</td>\n",
       "      <td>5</td>\n",
       "      <td>4</td>\n",
       "    </tr>\n",
       "    <tr>\n",
       "      <th>1.001541e+06</th>\n",
       "      <td>7</td>\n",
       "      <td>5</td>\n",
       "      <td>2</td>\n",
       "      <td>1</td>\n",
       "    </tr>\n",
       "    <tr>\n",
       "      <th>1.002029e+06</th>\n",
       "      <td>9</td>\n",
       "      <td>9</td>\n",
       "      <td>0</td>\n",
       "      <td>0</td>\n",
       "    </tr>\n",
       "    <tr>\n",
       "      <th>1.003200e+06</th>\n",
       "      <td>8</td>\n",
       "      <td>8</td>\n",
       "      <td>0</td>\n",
       "      <td>0</td>\n",
       "    </tr>\n",
       "    <tr>\n",
       "      <th>1.004012e+06</th>\n",
       "      <td>8</td>\n",
       "      <td>8</td>\n",
       "      <td>0</td>\n",
       "      <td>0</td>\n",
       "    </tr>\n",
       "    <tr>\n",
       "      <th>...</th>\n",
       "      <td>...</td>\n",
       "      <td>...</td>\n",
       "      <td>...</td>\n",
       "      <td>...</td>\n",
       "    </tr>\n",
       "    <tr>\n",
       "      <th>4.640446e+11</th>\n",
       "      <td>8</td>\n",
       "      <td>7</td>\n",
       "      <td>1</td>\n",
       "      <td>0</td>\n",
       "    </tr>\n",
       "    <tr>\n",
       "      <th>4.640568e+11</th>\n",
       "      <td>3</td>\n",
       "      <td>3</td>\n",
       "      <td>0</td>\n",
       "      <td>0</td>\n",
       "    </tr>\n",
       "    <tr>\n",
       "      <th>4.640793e+11</th>\n",
       "      <td>1</td>\n",
       "      <td>0</td>\n",
       "      <td>1</td>\n",
       "      <td>0</td>\n",
       "    </tr>\n",
       "    <tr>\n",
       "      <th>4.641050e+11</th>\n",
       "      <td>11</td>\n",
       "      <td>11</td>\n",
       "      <td>0</td>\n",
       "      <td>0</td>\n",
       "    </tr>\n",
       "    <tr>\n",
       "      <th>4.641209e+11</th>\n",
       "      <td>10</td>\n",
       "      <td>6</td>\n",
       "      <td>4</td>\n",
       "      <td>3</td>\n",
       "    </tr>\n",
       "  </tbody>\n",
       "</table>\n",
       "<p>46412 rows × 4 columns</p>\n",
       "</div>"
      ],
      "text/plain": [
       "              Total years  Active years  Inactive years  Closed years\n",
       "comp_id                                                              \n",
       "1.001034e+06           11             6               5             4\n",
       "1.001541e+06            7             5               2             1\n",
       "1.002029e+06            9             9               0             0\n",
       "1.003200e+06            8             8               0             0\n",
       "1.004012e+06            8             8               0             0\n",
       "...                   ...           ...             ...           ...\n",
       "4.640446e+11            8             7               1             0\n",
       "4.640568e+11            3             3               0             0\n",
       "4.640793e+11            1             0               1             0\n",
       "4.641050e+11           11            11               0             0\n",
       "4.641209e+11           10             6               4             3\n",
       "\n",
       "[46412 rows x 4 columns]"
      ]
     },
     "execution_count": 38,
     "metadata": {},
     "output_type": "execute_result"
    }
   ],
   "source": [
    "activity_df = pd.DataFrame({\"Total years\":comp_years,\n",
    "                            \"Active years\":active_years,\n",
    "                            \"Inactive years\":inactive_years,\n",
    "                            \"Closed years\":closed_years})\n",
    "\n",
    "activity_df"
   ]
  },
  {
   "cell_type": "markdown",
   "id": "332f320e-9d40-4564-9880-ff20f35d6942",
   "metadata": {
    "collapsed": false
   },
   "source": [
    "## 2012"
   ]
  },
  {
   "cell_type": "code",
   "execution_count": 43,
   "id": "b2e86c42-e37b-4218-9ca6-112ad530c1e1",
   "metadata": {
    "collapsed": false
   },
   "outputs": [
    {
     "data": {
      "text/plain": [
       "array([2012])"
      ]
     },
     "execution_count": 43,
     "metadata": {},
     "output_type": "execute_result"
    }
   ],
   "source": [
    "data_2012 = data[data['year'] == 2012]\n",
    "data_2012.year.unique()"
   ]
  },
  {
   "cell_type": "code",
   "execution_count": 48,
   "id": "5dda3fbc-4b23-4626-8d6a-56fe39e70b6b",
   "metadata": {
    "collapsed": false
   },
   "outputs": [],
   "source": [
    "import math"
   ]
  },
  {
   "cell_type": "markdown",
   "id": "8326d746-d47e-4619-8051-4375dd009a0b",
   "metadata": {
    "collapsed": false
   },
   "source": [
    "### Sales"
   ]
  },
  {
   "cell_type": "code",
   "execution_count": 44,
   "id": "d7c67346-7e75-42e5-9b3c-95f84b64e13a",
   "metadata": {
    "collapsed": false
   },
   "outputs": [
    {
     "data": {
      "text/plain": [
       "count    2.744600e+04\n",
       "mean     4.364306e+05\n",
       "std      3.531813e+06\n",
       "min     -1.834445e+04\n",
       "25%      3.248148e+03\n",
       "50%      2.515556e+04\n",
       "75%      9.676389e+04\n",
       "max      1.058662e+08\n",
       "Name: sales, dtype: float64"
      ]
     },
     "execution_count": 44,
     "metadata": {},
     "output_type": "execute_result"
    }
   ],
   "source": [
    "data_2012.sales.describe()"
   ]
  },
  {
   "cell_type": "markdown",
   "id": "b1d5a674-08d0-4d24-9c8b-bf2c5902412f",
   "metadata": {
    "collapsed": false
   },
   "source": [
    "Valores negativos não são válidos para a váriavel `sales`. O tratamento escolhido nesse caso é substituir valores negativos por 0."
   ]
  },
  {
   "cell_type": "code",
   "execution_count": 45,
   "id": "b614f075-a8c7-48eb-89b3-9d7300fa4710",
   "metadata": {
    "collapsed": false
   },
   "outputs": [
    {
     "data": {
      "text/plain": [
       "count    2.744600e+04\n",
       "mean     4.364316e+05\n",
       "std      3.531813e+06\n",
       "min      0.000000e+00\n",
       "25%      3.248148e+03\n",
       "50%      2.515556e+04\n",
       "75%      9.676389e+04\n",
       "max      1.058662e+08\n",
       "Name: sales, dtype: float64"
      ]
     },
     "execution_count": 45,
     "metadata": {},
     "output_type": "execute_result"
    }
   ],
   "source": [
    "data_2012.loc[data['sales'] < 0] = 0\n",
    "data_2012.sales.describe()"
   ]
  },
  {
   "cell_type": "markdown",
   "id": "fceade1e-19b1-440d-a10e-767acddb3acf",
   "metadata": {
    "collapsed": false
   },
   "source": [
    "Podemos ver ainda nas estatísticas descritivas que a média é maior que o terceiro quartil, indicando uma distribuição bastante assimétrica. Criamos entao uma com o logarítmo de `sales` para auxiliar na análise."
   ]
  },
  {
   "cell_type": "code",
   "execution_count": 79,
   "id": "80638d42-80eb-4c74-89f3-5d62984315d5",
   "metadata": {
    "collapsed": false
   },
   "outputs": [
    {
     "data": {
      "text/plain": [
       "count    27446.000000\n",
       "mean         8.803959\n",
       "std          4.370550\n",
       "min          0.000000\n",
       "25%          8.085840\n",
       "50%         10.132834\n",
       "75%         11.480029\n",
       "max         18.477687\n",
       "Name: log_sales, dtype: float64"
      ]
     },
     "execution_count": 79,
     "metadata": {},
     "output_type": "execute_result"
    }
   ],
   "source": [
    "data_2012.loc[:,'log_sales'] = data_2012.sales\\\n",
    "                                        .apply(lambda x: math.log(x)\\\n",
    "                                               if x != 0\\\n",
    "                                               else 0)\n",
    "\n",
    "data_2012.log_sales.describe()"
   ]
  }
 ],
 "metadata": {
  "kernelspec": {
   "argv": [
    "/opt/conda/bin/python",
    "-m",
    "ipykernel_launcher",
    "-f",
    "{connection_file}"
   ],
   "display_name": "Python 3 (ipykernel)",
   "env": null,
   "interrupt_mode": "signal",
   "language": "python",
   "metadata": {
    "debugger": true
   },
   "name": "python3"
  },
  "language_info": {
   "codemirror_mode": {
    "name": "ipython",
    "version": 3
   },
   "file_extension": ".py",
   "mimetype": "text/x-python",
   "name": "python",
   "nbconvert_exporter": "python",
   "pygments_lexer": "ipython3",
   "version": "3.11.5"
  },
  "name": "Tratamento_de_dados.ipynb"
 },
 "nbformat": 4,
 "nbformat_minor": 5
}
