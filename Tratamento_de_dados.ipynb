{
 "cells": [
  {
   "cell_type": "markdown",
   "id": "3303b899-a345-47f8-9559-bbed03fad017",
   "metadata": {
    "collapsed": false,
    "jupyter": {
     "outputs_hidden": false
    }
   },
   "source": [
    "![Insper](https://github.com/danielscarvalho/Insper-DS-Dicas/blob/master/Insper-Logo.png?raw=true)\n",
    "\n",
    "# Insper Pós-Graduação\n",
    "## Programa Avançado em Data Science e Decisão [»](https://www.insper.edu.br/pos-graduacao/programas-avancados/programa-avancado-em-data-science-e-decisao/)\n"
   ]
  },
  {
   "cell_type": "markdown",
   "id": "1dbcce7c-c18a-43b0-8295-52d057454821",
   "metadata": {
    "collapsed": false,
    "jupyter": {
     "outputs_hidden": false
    }
   },
   "source": [
    "# Atividade Integradora\n",
    "## Setup"
   ]
  },
  {
   "cell_type": "markdown",
   "id": "b476ae84-4912-4a47-80d0-6245e6c03579",
   "metadata": {
    "collapsed": false,
    "jupyter": {
     "outputs_hidden": false
    }
   },
   "source": [
    "### Dependências"
   ]
  },
  {
   "cell_type": "code",
   "execution_count": null,
   "id": "4f008409-a82d-4f34-9886-4c16702764a1",
   "metadata": {
    "collapsed": false,
    "jupyter": {
     "outputs_hidden": false
    }
   },
   "outputs": [],
   "source": [
    "import pandas as pd\n",
    "import numpy as np\n",
    "from dfply import *\n",
    "import altair as alt\n",
    "import missingno as msno\n",
    "from ydata_profiling import ProfileReport\n",
    "import matplotlib\n",
    "import matplotlib.pyplot as plt \n",
    "import math\n",
    "import seaborn as sns\n",
    "from sklearn import linear_model\n",
    "from sklearn.experimental import enable_iterative_imputer\n",
    "from sklearn.impute import IterativeImputer"
   ]
  },
  {
   "cell_type": "markdown",
   "id": "e33ca872-77b7-4064-8541-4ff373f474cf",
   "metadata": {
    "collapsed": false,
    "jupyter": {
     "outputs_hidden": false
    }
   },
   "source": [
    "### Carregamento dos Dados"
   ]
  },
  {
   "cell_type": "markdown",
   "id": "d1d3d1bb-1b15-409e-834b-be0a6790566b",
   "metadata": {
    "collapsed": false,
    "jupyter": {
     "outputs_hidden": false
    }
   },
   "source": [
    "Leitura da base de dados e do dicionários de dados"
   ]
  },
  {
   "cell_type": "code",
   "execution_count": null,
   "id": "1bb07a78-b503-4bd7-b5b9-8bc1d56331be",
   "metadata": {
    "collapsed": false,
    "jupyter": {
     "outputs_hidden": false
    }
   },
   "outputs": [],
   "source": [
    "data = pd.read_csv(\"cs_bisnode_panel.csv\")\n",
    "dicionario_de_dados_0 = pd.read_excel(\"bisnode_variable_names.xls\", header=4)"
   ]
  },
  {
   "cell_type": "markdown",
   "id": "1a68f1ef-863a-47b9-be12-d156e7be293e",
   "metadata": {
    "collapsed": false,
    "jupyter": {
     "outputs_hidden": false
    }
   },
   "source": [
    "Visualização inicial da base de dados"
   ]
  },
  {
   "cell_type": "code",
   "execution_count": null,
   "id": "0601d674-fc72-4f17-8dd4-7bbba85ba194",
   "metadata": {
    "collapsed": false,
    "jupyter": {
     "outputs_hidden": false
    }
   },
   "outputs": [],
   "source": [
    "data.head()"
   ]
  },
  {
   "cell_type": "code",
   "execution_count": null,
   "id": "31a6ebe3-4290-414e-b90b-41383e49e4e4",
   "metadata": {
    "collapsed": false,
    "jupyter": {
     "outputs_hidden": false
    }
   },
   "outputs": [],
   "source": [
    "data.describe()"
   ]
  },
  {
   "cell_type": "markdown",
   "id": "311ac09f-10c5-4969-ada7-4ea0fc6c2546",
   "metadata": {
    "collapsed": false,
    "jp-MarkdownHeadingCollapsed": true,
    "jupyter": {
     "outputs_hidden": false
    }
   },
   "source": [
    "## Dicionário de dados\n",
    "### Limpeza"
   ]
  },
  {
   "cell_type": "markdown",
   "id": "7e2fa695-6ff1-4497-92a4-912cf02508c5",
   "metadata": {
    "collapsed": false,
    "jupyter": {
     "outputs_hidden": false
    }
   },
   "source": [
    "Ao carregar o dicionário de dados a primeira coluna pega seu nome da quarta linha da tabela (argumento `header=4` acima). As outras três colunas são nomeadas abaixo."
   ]
  },
  {
   "cell_type": "code",
   "execution_count": null,
   "id": "0227d0af-10fc-4f3b-897d-c4f4ca18d1c1",
   "metadata": {
    "collapsed": false,
    "jupyter": {
     "outputs_hidden": false
    }
   },
   "outputs": [],
   "source": [
    "dicionario_de_dados_1 = dicionario_de_dados_0.rename({'Unnamed: 1': 'description',\n",
    "                                                      'Unnamed: 2': 'type',\n",
    "                                                      'Unnamed: 3': 'footnote'},\n",
    "                                                     axis=1)"
   ]
  },
  {
   "cell_type": "code",
   "execution_count": null,
   "id": "a4bea9bf-73ac-4df5-908e-fe5c53192ade",
   "metadata": {
    "collapsed": false,
    "jupyter": {
     "outputs_hidden": false
    }
   },
   "outputs": [],
   "source": [
    "dicionario_de_dados_1.columns"
   ]
  },
  {
   "cell_type": "markdown",
   "id": "285e2534-c6c3-4e68-b51a-34813ade605b",
   "metadata": {
    "collapsed": false,
    "jupyter": {
     "outputs_hidden": false
    }
   },
   "source": [
    "Então, retiramos as linhas não relevantes para a análise, incluindo linhas totalmente em branco e uma linha com informação de versão da base de dados: \n",
    " - `v 0.92. 2021-02-04`"
   ]
  },
  {
   "cell_type": "code",
   "execution_count": null,
   "id": "f36593db-a238-4629-84fb-7c55dcc4cdad",
   "metadata": {
    "collapsed": false,
    "jupyter": {
     "outputs_hidden": false
    }
   },
   "outputs": [],
   "source": [
    "dicionario_de_dados = dicionario_de_dados_1\\\n",
    "                       .drop(index=54)\\\n",
    "                       .dropna(how=\"all\")\\\n",
    "                       .reset_index()\\\n",
    "                       .drop('index', axis='columns')"
   ]
  },
  {
   "cell_type": "code",
   "execution_count": null,
   "id": "1271d66c-d6f4-4f3c-bc2f-45c2893ada6e",
   "metadata": {
    "collapsed": false,
    "jupyter": {
     "outputs_hidden": false
    }
   },
   "outputs": [],
   "source": [
    "dicionario_de_dados.sample(5)"
   ]
  },
  {
   "cell_type": "markdown",
   "id": "a6f9bf18-becc-4a60-99a9-99ffd696e39c",
   "metadata": {
    "collapsed": false,
    "jupyter": {
     "outputs_hidden": false
    }
   },
   "source": [
    "## Dados faltantes\n",
    "---\n",
    "\n",
    "###  Visualização\n",
    "Vamos verificar dados faltando do banco de dados:"
   ]
  },
  {
   "cell_type": "markdown",
   "id": "9063e8d3-f5bc-4f94-9648-66cc8320ea5f",
   "metadata": {
    "collapsed": false,
    "jupyter": {
     "outputs_hidden": false
    }
   },
   "source": [
    "Criação de função para analisar os dados faltantes."
   ]
  },
  {
   "cell_type": "code",
   "execution_count": null,
   "id": "fcba808c-502d-4a4a-a769-af0a0b225762",
   "metadata": {
    "collapsed": false,
    "jupyter": {
     "outputs_hidden": false
    }
   },
   "outputs": [],
   "source": [
    "def show_missing(df):\n",
    "    \"\"\"Return a Pandas dataframe describing the contents of a source dataframe including missing values.\"\"\"\n",
    "    \n",
    "    variables = []\n",
    "    dtypes = []\n",
    "    count = []\n",
    "    unique = []\n",
    "    missing = []\n",
    "    pc_missing = []\n",
    "    \n",
    "    for item in df.columns:\n",
    "        variables.append(item)\n",
    "        dtypes.append(df[item].dtype)\n",
    "        count.append(len(df[item]))\n",
    "        unique.append(len(df[item].unique()))\n",
    "        missing.append(df[item].isna().sum())\n",
    "        pc_missing.append(round((df[item].isna().sum() / len(df[item])) * 100, 2))\n",
    "\n",
    "    output = pd.DataFrame({\n",
    "        'variable': variables, \n",
    "        'dtype': dtypes,\n",
    "        'count': count,\n",
    "        'unique': unique,\n",
    "        'missing': missing, \n",
    "        'pc_missing': pc_missing\n",
    "    })    \n",
    "        \n",
    "    return output"
   ]
  },
  {
   "cell_type": "markdown",
   "id": "decd6fb9-a8aa-480e-8734-3c813b97707d",
   "metadata": {
    "collapsed": false,
    "jupyter": {
     "outputs_hidden": false
    }
   },
   "source": [
    "Verificando dados com maior falta de informações:"
   ]
  },
  {
   "cell_type": "code",
   "execution_count": null,
   "id": "7e0d32e9-c02e-487b-89cd-9f48505ad070",
   "metadata": {
    "collapsed": false,
    "jupyter": {
     "outputs_hidden": false
    }
   },
   "outputs": [],
   "source": [
    "missing_data = show_missing(data).sort_values('pc_missing', ascending=False, ignore_index = True)\n",
    "\n",
    "index_full_data = list(missing_data[missing_data['missing']==0].index)\n",
    "\n",
    "missing_data.drop(labels=index_full_data, axis='index', inplace=True)\n",
    "\n",
    "missing_data.head(10)"
   ]
  },
  {
   "cell_type": "code",
   "execution_count": null,
   "id": "70692797-cd1d-45e3-9c3e-a41b8f5f8faa",
   "metadata": {
    "collapsed": false,
    "jupyter": {
     "outputs_hidden": false
    }
   },
   "outputs": [],
   "source": [
    "missing_val_columns = missing_data['variable'][missing_data['pc_missing']>0]"
   ]
  },
  {
   "cell_type": "code",
   "execution_count": null,
   "id": "4ebf3715-ea63-4bf1-83fb-ce7111610063",
   "metadata": {
    "collapsed": false,
    "jupyter": {
     "outputs_hidden": false
    }
   },
   "outputs": [],
   "source": [
    "msno.bar(data[missing_val_columns], figsize=(16, 4))"
   ]
  },
  {
   "cell_type": "markdown",
   "id": "088e007b-e26b-4b5d-bbdf-8f4e7ae537ce",
   "metadata": {
    "collapsed": false,
    "jupyter": {
     "outputs_hidden": false
    }
   },
   "source": [
    "### Colunas com poucos dados\n",
    "Seis colunas tem mais de 90% de dados faltantes. Aqui removemos essas colunas. Removemos tambem as colunas \"begin\" e \"end\" que contêm informação sobre o período a que os dados dizem respeito. Consideraremos na análise essa mesma informação contida na variável \"year\"."
   ]
  },
  {
   "cell_type": "code",
   "execution_count": null,
   "id": "01fc85e1-40ed-4a8a-afff-8782cb2d2a03",
   "metadata": {
    "collapsed": false,
    "jupyter": {
     "outputs_hidden": false
    }
   },
   "outputs": [],
   "source": [
    "columns_to_remove = ['COGS',\n",
    "                     'finished_prod',\n",
    "                     'net_dom_sales',\n",
    "                     'net_exp_sales',\n",
    "                     'wages',\n",
    "                     'D',\n",
    "                     'begin',\n",
    "                     'end'] \n",
    "\n",
    "data.drop(columns=columns_to_remove, inplace=True)\n",
    "\n",
    "data.columns"
   ]
  },
  {
   "cell_type": "markdown",
   "id": "541651a2-4846-475c-acf9-e4002ba3c9e0",
   "metadata": {
    "collapsed": false,
    "jupyter": {
     "outputs_hidden": false
    }
   },
   "source": [
    "As duas próximas variáveis com maior volume de dados faltantes são exit_year(86.50%) e exit_date (80.48%). Para as observações com informação em exit_date e não em exit_year, preenchemos exit_year com a informação de ano em exit_date. Como a presente análise tem granularidade anual, retiramos a coluna exit_date após esse tratamento."
   ]
  },
  {
   "cell_type": "code",
   "execution_count": null,
   "id": "f2db3cd2-f72f-4d7c-b50a-65f328a72600",
   "metadata": {
    "collapsed": false,
    "jupyter": {
     "outputs_hidden": false
    }
   },
   "outputs": [],
   "source": [
    "# Quando o exit_year está ausente, pega o ano de exit_date\n",
    "data.loc[data['exit_year'].isna(), 'exit_year'] = pd.to_datetime(data['exit_date']).dt.year\n",
    "\n",
    "# Substitui valores NaN em exit_year por \"-\"\n",
    "data['exit_year'] = data['exit_year'].fillna('-')\n",
    "\n",
    "# Exclui a coluna exit_date\n",
    "data = data.drop(columns='exit_date')"
   ]
  },
  {
   "cell_type": "markdown",
   "id": "8925f548-6d5c-4e59-aa1a-e462efe0d0cb",
   "metadata": {
    "collapsed": false,
    "jupyter": {
     "outputs_hidden": false
    }
   },
   "source": [
    "### \"founded_year\"\n",
    "Aproveitamos para tratar aqui a variável \"founded_year\" que utilizamos mais à frente na criação da feature \"company_age\"."
   ]
  },
  {
   "cell_type": "code",
   "execution_count": null,
   "id": "39f1a0f1-0fa9-4d2a-9f1a-a0aa1414a173",
   "metadata": {
    "collapsed": false,
    "jupyter": {
     "outputs_hidden": false
    }
   },
   "outputs": [],
   "source": [
    "missing_data.loc[missing_data['variable'].isin(['founded_year','founded_date'])]"
   ]
  },
  {
   "cell_type": "markdown",
   "id": "026618aa-d099-40ac-adfb-070d8eb4a26a",
   "metadata": {
    "collapsed": false,
    "jupyter": {
     "outputs_hidden": false
    }
   },
   "source": [
    "Convertemos 'founde_date' para datetime.\\\n",
    "**Nota:** A versão do código abaixo é mais complexa do que o necessário, mas generalizavel para tratar mais de uma variável de uma vez."
   ]
  },
  {
   "cell_type": "code",
   "execution_count": null,
   "id": "6c13c6f2-10c8-44a3-b207-9b7553c396ca",
   "metadata": {
    "collapsed": false,
    "jupyter": {
     "outputs_hidden": false
    }
   },
   "outputs": [],
   "source": [
    "colunas_data = ['founded_date']\n",
    "\n",
    "data.dtypes[colunas_data]"
   ]
  },
  {
   "cell_type": "code",
   "execution_count": null,
   "id": "6fd9db14-0794-49f0-94e4-211dc1f6a980",
   "metadata": {
    "collapsed": false,
    "jupyter": {
     "outputs_hidden": false
    }
   },
   "outputs": [],
   "source": [
    "for column in colunas_data:\n",
    "    data[column] = pd.to_datetime(data[column], format='%Y-%m-%d')\n",
    "\n",
    "data[colunas_data].dtypes"
   ]
  },
  {
   "cell_type": "markdown",
   "id": "07383433-6fce-4e3f-a371-68df7d8a44a6",
   "metadata": {
    "collapsed": false,
    "jupyter": {
     "outputs_hidden": false
    }
   },
   "source": [
    "De forma analoga ao tratamento de \"exit_year\" e \"exit_date\", utilizamos a variável \"founded_date\" (que tem uma menor proporção de valores faltantes) para preencher alguns dos valores faltantes em \"founded_year\" (que tem a granularidade desejada para a análise)."
   ]
  },
  {
   "cell_type": "code",
   "execution_count": null,
   "id": "4cc24ec3-6207-4ac1-a950-33d451b1544e",
   "metadata": {
    "collapsed": false,
    "jupyter": {
     "outputs_hidden": false
    }
   },
   "outputs": [],
   "source": [
    "assert any(data.loc[(data['founded_date'].isna() & \n",
    "                     data['founded_year'].isna()),\n",
    "                    'comp_id'].count() ==\\\n",
    "           missing_data.loc[missing_data['variable'] == 'founded_date', 'missing'])"
   ]
  },
  {
   "cell_type": "markdown",
   "id": "9fe520fb-6aa4-4f35-8244-4f2280249e4c",
   "metadata": {
    "collapsed": false,
    "jupyter": {
     "outputs_hidden": false
    }
   },
   "source": [
    "As observações sem informação em \"founded_date\" também não tem informação para \"founded_year\" e são retiradas."
   ]
  },
  {
   "cell_type": "code",
   "execution_count": null,
   "id": "4e59fe14-c73f-43ba-955b-d908060db424",
   "metadata": {
    "collapsed": false,
    "jupyter": {
     "outputs_hidden": false
    }
   },
   "outputs": [],
   "source": [
    "# Remove linhas onde 'founded_date' é NaN\n",
    "data = data.dropna(subset=['founded_date'])\n",
    "\n",
    "# Extrai o ano de 'founded_date' e substitui os valores ausentes em 'founded_year'\n",
    "data['founded_year'] = data['founded_date'].dt.year\n",
    "\n",
    "# Descarta a coluna 'founded_date', pois o ano de fundação da empresa é suficiente\n",
    "data = data.drop(columns=['founded_date'])"
   ]
  },
  {
   "cell_type": "markdown",
   "id": "70668375-a326-4aa7-ab3f-9c108fe3aedc",
   "metadata": {
    "collapsed": false,
    "jupyter": {
     "outputs_hidden": false
    }
   },
   "source": [
    "### Checkpoint\n",
    "Análise dos percentuais de missing após os tratamentos."
   ]
  },
  {
   "cell_type": "code",
   "execution_count": null,
   "id": "a234d687-2f89-4099-b617-b127951b57a0",
   "metadata": {
    "collapsed": false,
    "jupyter": {
     "outputs_hidden": false
    }
   },
   "outputs": [],
   "source": [
    "missing_data2 = show_missing(data).sort_values('pc_missing', ascending=False, ignore_index = True)\n",
    "\n",
    "index_full_data = list(missing_data2[missing_data2['missing']==0].index)\n",
    "\n",
    "missing_data2.drop(labels=index_full_data, axis='index', inplace=True)\n",
    "\n",
    "missing_data2"
   ]
  },
  {
   "cell_type": "markdown",
   "id": "2ef56802-b3ad-426e-b0d2-bd51b7b384d6",
   "metadata": {
    "collapsed": false,
    "jupyter": {
     "outputs_hidden": false
    }
   },
   "source": [
    "### Colunas com dados quase completos"
   ]
  },
  {
   "cell_type": "markdown",
   "id": "21d05543-dc0c-461e-86e8-51c0df612705",
   "metadata": {
    "collapsed": false,
    "jupyter": {
     "outputs_hidden": false
    }
   },
   "source": [
    "Aqui tratamos as colunas com 5% ou menos dados faltantes. Primeiramente checamos se esses dados estão faltando nas mesmas observações ou se estão distribuidos em observações diferentes."
   ]
  },
  {
   "cell_type": "code",
   "execution_count": null,
   "id": "5207be2e-7b2a-479c-81c3-0b01d238d8ba",
   "metadata": {
    "collapsed": false,
    "jupyter": {
     "outputs_hidden": false
    }
   },
   "outputs": [],
   "source": [
    "# Lista de colunas com menos de 5% de dados ausentes\n",
    "\n",
    "cols = list(missing_data2['variable'][missing_data2['pc_missing']<5.0])\n",
    "\n",
    "# Verifica quais linhas possuem dados ausentes nessas colunas\n",
    "\n",
    "missing_rows = data[cols].isnull().any(axis=1)      \n",
    "\n",
    "# Calcula o percentual de linhas com dados ausentes\n",
    "\n",
    "pc_missing_rows = 100 * missing_rows.sum() / len(data)\n",
    "\n",
    "print(f'Percentual de linhas com dados ausentes em pelo menos uma das colunas mencionadas: {pc_missing_rows:.2f}%')"
   ]
  },
  {
   "cell_type": "code",
   "execution_count": null,
   "id": "4400c58d-6973-4384-a1fb-13e10038a92f",
   "metadata": {
    "collapsed": false,
    "jupyter": {
     "outputs_hidden": false
    }
   },
   "outputs": [],
   "source": [
    "# Remove variáveis com menos de 5% de dados ausentes\n",
    "removable_na_columns = list(missing_data2['variable'][missing_data2['pc_missing']<5.0])\n",
    "\n",
    "data.dropna(subset=removable_na_columns, inplace=True)"
   ]
  },
  {
   "cell_type": "markdown",
   "id": "028b9537-56a4-4427-96d6-4bd48dc4b563",
   "metadata": {
    "collapsed": false,
    "jupyter": {
     "outputs_hidden": false
    }
   },
   "source": [
    "Valores faltantes após os tratamentos."
   ]
  },
  {
   "cell_type": "code",
   "execution_count": null,
   "id": "24030959-bfa6-4e15-9b96-0bcf2ccf4b42",
   "metadata": {
    "collapsed": false,
    "jupyter": {
     "outputs_hidden": false
    }
   },
   "outputs": [],
   "source": [
    "missing_data_3 = show_missing(data).sort_values('pc_missing', ascending=False, ignore_index = True)\n",
    "\n",
    "index_full_data = list(missing_data_3[missing_data_3['missing']==0].index)\n",
    "\n",
    "missing_data_3.drop(labels=index_full_data, axis='index', inplace=True)\n",
    "\n",
    "missing_data_3"
   ]
  },
  {
   "cell_type": "code",
   "execution_count": null,
   "id": "5e615746-a782-4244-9118-b05d7cb29176",
   "metadata": {
    "collapsed": false,
    "jupyter": {
     "outputs_hidden": false
    }
   },
   "outputs": [],
   "source": [
    "msno.matrix(data)"
   ]
  },
  {
   "cell_type": "markdown",
   "id": "6a262618-f526-44e4-ad71-68ebceac74e9",
   "metadata": {
    "collapsed": false,
    "jupyter": {
     "outputs_hidden": false
    }
   },
   "source": [
    "A tabela mostra 6 variaveis com cerca de 20% de dados faltantes nesse ponto da analise, e o grafico indica que essa ausencia de dados coincide nas mesmas observacoes. Optamos por nao retirar essas observacoes pois nao esperamos utilizar essas variaveis na analise."
   ]
  },
  {
   "cell_type": "markdown",
   "id": "74d51312-8d43-4c48-b8b8-42d367d4b465",
   "metadata": {
    "collapsed": false,
    "jupyter": {
     "outputs_hidden": false
    }
   },
   "source": [
    "### \"labor_avg\" e \"birth_year\""
   ]
  },
  {
   "cell_type": "code",
   "execution_count": null,
   "id": "14175c46-ddbc-4a10-9a7a-8256fdfe44cd",
   "metadata": {
    "collapsed": false,
    "jupyter": {
     "outputs_hidden": false
    }
   },
   "outputs": [],
   "source": [
    " # Plota um histograma para \"labor_avg\"\n",
    "plt.figure(figsize=(12, 6))\n",
    "plt.subplot(1, 2, 1)\n",
    "plt.hist(data['labor_avg'].dropna(), bins=30, color='blue', alpha=0.7)\n",
    "plt.title('Distribuição de labor_avg')\n",
    "plt.xlabel('labor_avg')\n",
    "plt.ylabel('Frequência')\n",
    "\n",
    "# Plota um histograma para \"birth year CEO\"\n",
    "plt.subplot(1, 2, 2)\n",
    "plt.hist(data['birth_year'].dropna(), bins=30, color='green', alpha=0.7)\n",
    "plt.title('Distribuição de birth year CEO')\n",
    "plt.xlabel('birth year CEO')\n",
    "plt.ylabel('Frequência')\n",
    "\n",
    "plt.tight_layout()\n",
    "plt.show()"
   ]
  },
  {
   "cell_type": "code",
   "execution_count": null,
   "id": "1ce2d8de-aae0-4e6d-88b3-a04a3ee2e480",
   "metadata": {
    "collapsed": false,
    "jupyter": {
     "outputs_hidden": false
    }
   },
   "outputs": [],
   "source": [
    "# Calcula e mostra a assimetria das variáveis\n",
    "print(f\"Assimetria de labor_avg: {data['labor_avg'].skew()}\")\n",
    "print(f\"Assimetria de birth year CEO: {data['birth_year'].skew()}\")"
   ]
  },
  {
   "cell_type": "code",
   "execution_count": null,
   "id": "0109a4e9-d87d-4223-afdc-1306c6858a46",
   "metadata": {
    "collapsed": false,
    "jupyter": {
     "outputs_hidden": false
    }
   },
   "outputs": [],
   "source": [
    "# Configura o estilo do Seaborn\n",
    "sns.set(style=\"whitegrid\")\n",
    "\n",
    "plt.figure(figsize=(12, 6))\n",
    "\n",
    "# Boxplot para 'labor_avg'\n",
    "plt.subplot(1, 2, 1)\n",
    "sns.boxplot(y=data['labor_avg'], color='blue')\n",
    "plt.title('Boxplot de labor_avg')\n",
    "\n",
    "# Boxplot para 'birth year CEO'\n",
    "plt.subplot(1, 2, 2)\n",
    "sns.boxplot(y=data['birth_year'], color='green')\n",
    "plt.title('Boxplot de birth year CEO')\n",
    "\n",
    "plt.tight_layout()\n",
    "plt.show()"
   ]
  },
  {
   "cell_type": "markdown",
   "id": "17848742-c757-442a-925d-bed6e97df750",
   "metadata": {
    "collapsed": false,
    "jupyter": {
     "outputs_hidden": false
    }
   },
   "source": [
    "## Feature Engineering\n",
    "---"
   ]
  },
  {
   "cell_type": "markdown",
   "id": "0eb95cef-229c-4a63-b792-f9d4bc0134be",
   "metadata": {
    "collapsed": false,
    "jupyter": {
     "outputs_hidden": false
    }
   },
   "source": [
    "### Variável Dependente - Inatividade da Empresa\n",
    "Chamamos \"inativas\" aquelas empresas que não apresentam vendas nos dois anos seguintes ao ano observado.\\\n",
    "**Nota:** ativa = 0, inativa = 1"
   ]
  },
  {
   "cell_type": "code",
   "execution_count": null,
   "id": "97768d5c-5e5b-4ac3-bdb8-71fa788e2ffc",
   "metadata": {
    "collapsed": false,
    "jupyter": {
     "outputs_hidden": false
    }
   },
   "outputs": [],
   "source": [
    "# Ordena o DataFrame por empresa e ano\n",
    "data.sort_values(by=['comp_id', 'year'], inplace=True)\n",
    "\n",
    "# Cria colunas deslocadas para checar vendas nos dois anos seguintes\n",
    "conditions_x1 = [((data['comp_id'] == data['comp_id'].shift(-1)) &\n",
    "                  (data['year'] == data['year'].shift(-1) - 1)),\n",
    "\n",
    "                 ((data['comp_id'] != data['comp_id'].shift(-1)) |\n",
    "                  data['year'] != data['year'].shift(-1))]\n",
    "\n",
    "values_x1 = [data['sales'].shift(-1),\n",
    "             np.nan]\n",
    "\n",
    "data['sales_x1'] = pd.Series(np.select(conditions_x1, values_x1)).fillna(0)\n",
    "\n",
    "\n",
    "conditions_x2 = [\n",
    "    ((data['comp_id'] == data['comp_id'].shift(-1)) &   \n",
    "     (data['year'] == data['year'].shift(-1) - 2)),\n",
    "\n",
    "    ((data['comp_id'] == data['comp_id'].shift(-2)) &\n",
    "     (data['year'] == data['year'].shift(-2) - 2)),\n",
    "\n",
    "    True\n",
    "]\n",
    "\n",
    "values_x2 = [data['sales'].shift(-1),\n",
    "             data['sales'].shift(-2),\n",
    "             np.nan]\n",
    "\n",
    "data['sales_x2'] = pd.Series(np.select(conditions_x2, values_x2)).fillna(0)\n",
    "\n",
    "\n",
    "# Define condicao usada para identificar empresas que pararam de operar:\n",
    "#  - sem vendas por mais de 2 anos\n",
    "condition = ((data['sales_x1'] == 0) & (data['sales_x2'] == 0)) \n",
    "\n",
    "# Create a new 'dependente' column with 1 for ceased companies and 0 otherwise\n",
    "data['fechado'] = condition.astype(int)"
   ]
  },
  {
   "cell_type": "markdown",
   "id": "a5413247-1afd-47c0-8a3b-8d6b5812aa9f",
   "metadata": {
    "collapsed": false,
    "jupyter": {
     "outputs_hidden": false
    }
   },
   "source": [
    "Vamos conferir os valores da variavel dependente para algumas empresas do dataframe:"
   ]
  },
  {
   "cell_type": "code",
   "execution_count": null,
   "id": "17415f69-c82a-4084-b873-aa40aa0764ad",
   "metadata": {
    "collapsed": false,
    "jupyter": {
     "outputs_hidden": false
    }
   },
   "outputs": [],
   "source": [
    "# lista de colunas para avaliação\n",
    "check_list = ['comp_id', 'year', 'exit_year', 'sales', 'sales_x1', 'sales_x2', 'fechado']\n",
    "\n",
    "filtro = data[check_list]\n",
    "filtro_sub = filtro[(filtro['comp_id'] == 464021159936) | (filtro['comp_id'] == 1001541)]\n",
    "\n",
    "filtro_sub"
   ]
  },
  {
   "cell_type": "code",
   "execution_count": null,
   "id": "6d832b06-3550-44a1-b7b6-e124e5333e48",
   "metadata": {
    "collapsed": false,
    "jupyter": {
     "outputs_hidden": false
    }
   },
   "outputs": [],
   "source": [
    "# Remodela os dados de vendas para tratar valores negativos\n",
    "data['sales'] = np.where(data['sales']<0, 0, data['sales'])\n",
    "\n",
    "data['fechado'] = condition.astype(int)"
   ]
  },
  {
   "cell_type": "code",
   "execution_count": null,
   "id": "31baad14-f931-4ca8-b891-ae53a0710303",
   "metadata": {
    "collapsed": false,
    "jupyter": {
     "outputs_hidden": false
    }
   },
   "outputs": [],
   "source": [
    "data[check_list].describe()"
   ]
  },
  {
   "cell_type": "markdown",
   "id": "b1d70df0-19ef-435f-bc3d-9931eddbab23",
   "metadata": {
    "collapsed": false,
    "jupyter": {
     "outputs_hidden": false
    }
   },
   "source": [
    "Vamos averiguar agora os anos em que as empresas tiveram atividade e inatividade:"
   ]
  },
  {
   "cell_type": "code",
   "execution_count": null,
   "id": "0eb79214-94f3-4889-b748-776fb7345408",
   "metadata": {
    "collapsed": false,
    "jupyter": {
     "outputs_hidden": false
    }
   },
   "outputs": [],
   "source": [
    "# Converte \"comp_id\" para float antes de agrupar\n",
    "data['comp_id'] = data['comp_id'].astype(float)\n",
    "\n",
    "data_grouped = data.groupby('comp_id')\n",
    "\n",
    "# Conta anos de acompanhamento\n",
    "comp_years = data_grouped['year'].count()\n",
    "\n",
    "# Conta anos com vendas\n",
    "sales_years = data_grouped.apply(lambda group: (group['sales'] > 0).sum())\n",
    "\n",
    "# Conta anos sem vendas\n",
    "no_sales_years = data_grouped.apply(lambda group: (group['sales'] == 0).sum())\n",
    "\n",
    "# Conta anos de \"inatividade\"\n",
    "inative_years = data_grouped.apply(lambda group: (group['fechado'] == 1).sum())"
   ]
  },
  {
   "cell_type": "code",
   "execution_count": null,
   "id": "7caa96e2-a4e2-442a-8791-997fc6134b65",
   "metadata": {
    "collapsed": false,
    "jupyter": {
     "outputs_hidden": false
    }
   },
   "outputs": [],
   "source": [
    "pd.options.display.float_format = '{:.1f}'.format\n",
    "\n",
    "activity_df = pd.DataFrame({'Total years':comp_years,\n",
    "                            'Sales years':sales_years, \n",
    "                            'No sales years':no_sales_years,\n",
    "                            'Inative years':inative_years}).reset_index()\n",
    "\n",
    "activity_df['comp_id'] = activity_df['comp_id'].astype(float)\n",
    "activity_df.head()"
   ]
  },
  {
   "cell_type": "markdown",
   "id": "9377307a-8424-487c-9767-bc0fd7cea7e3",
   "metadata": {
    "collapsed": false,
    "jupyter": {
     "outputs_hidden": false
    }
   },
   "source": [
    "## Seleção de subset para análise\n",
    "---\n",
    "A modelagem é feita em cima de um subset dos dados com o objetivo de adicionar foco à analise e facilitar o processamento por estar trabalhando com menor volume de dados. O escopo desse subset pode ser adaptado iterativamente, atendendo a demandas que surjam na análise."
   ]
  },
  {
   "cell_type": "markdown",
   "id": "e0535153-6754-4395-83f5-2de7d7e39eb7",
   "metadata": {
    "collapsed": false,
    "jupyter": {
     "outputs_hidden": false
    }
   },
   "source": [
    "### Removendo dados do ano 2016\n",
    "Registros do ano de 2016 são removidos do conjunto."
   ]
  },
  {
   "cell_type": "code",
   "execution_count": null,
   "id": "1d5a9327-3c06-43db-b05d-ead8df26af95",
   "metadata": {
    "collapsed": false,
    "jupyter": {
     "outputs_hidden": false
    }
   },
   "outputs": [],
   "source": [
    "data = data[data['year']!=2016].copy()\n",
    "assert not any(data[\"year\"] == 2016)"
   ]
  },
  {
   "cell_type": "markdown",
   "id": "bd912446-63b2-4747-8bfd-5efd534cc03c",
   "metadata": {
    "collapsed": false,
    "jupyter": {
     "outputs_hidden": false
    }
   },
   "source": [
    "### Ano"
   ]
  },
  {
   "cell_type": "code",
   "execution_count": null,
   "id": "75b667b9-6c5e-4531-a171-54bf0c92d3a0",
   "metadata": {
    "collapsed": false,
    "jupyter": {
     "outputs_hidden": false
    }
   },
   "outputs": [],
   "source": [
    "# Cria dataframe apenas com os dados do ano de 2012\n",
    "data_2012 = data[data['year'] == 2012].copy()\n",
    "\n",
    "assert data_2012.year.unique() == 2012 # verificando coluna de ano"
   ]
  },
  {
   "cell_type": "code",
   "execution_count": null,
   "id": "107a5d93-82c3-4433-b105-c05340ca0153",
   "metadata": {
    "collapsed": false,
    "jupyter": {
     "outputs_hidden": false
    }
   },
   "outputs": [],
   "source": [
    "# Verifica valores da coluna \"exit_year\"\n",
    "data_2012['exit_year'].value_counts()"
   ]
  },
  {
   "cell_type": "code",
   "execution_count": null,
   "id": "ad9d23d6-c989-4775-be53-45162df804bc",
   "metadata": {
    "collapsed": false,
    "jupyter": {
     "outputs_hidden": false
    }
   },
   "outputs": [],
   "source": [
    "check_list = ['comp_id', 'year', 'exit_year', 'sales', 'sales_x1', 'sales_x2', 'fechado']\n",
    "\n",
    "# Converte \"-\" para NaN\n",
    "data_2012['exit_year'].replace('-', np.nan, inplace=True)\n",
    "\n",
    "# Converte a coluna para float\n",
    "data_2012['exit_year'] = data_2012['exit_year'].astype(float)\n",
    "\n",
    "# Filtra o dataframe\n",
    "filtro = data_2012[check_list]\n",
    "filtro_sub = filtro[filtro['exit_year'] < 2012]\n",
    "filtro_sub"
   ]
  },
  {
   "cell_type": "markdown",
   "id": "217143bb-36eb-4aee-b023-f9d88ee70bc2",
   "metadata": {
    "collapsed": false,
    "jupyter": {
     "outputs_hidden": false
    }
   },
   "source": [
    "Há na base empresas que encerram suas atividades antes de 2012 (de acordo com a variavel \"exit_year\") e apresentam vendas posteriormente, indicando uma inconsistência nos dados. Optamos por considerar o valor de \"exit_year\" e retiramos empresas para as quais \"exit_year\" < 2012."
   ]
  },
  {
   "cell_type": "markdown",
   "id": "750486d8-4c91-46cf-b942-a55644ca6a36",
   "metadata": {
    "collapsed": false,
    "jupyter": {
     "outputs_hidden": false
    }
   },
   "source": [
    "Verifica as empresas que encerraram as atividades em 2012"
   ]
  },
  {
   "cell_type": "code",
   "execution_count": null,
   "id": "ca7f36ba-c881-4fcf-9072-0e937d8dbc43",
   "metadata": {
    "collapsed": false,
    "jupyter": {
     "outputs_hidden": false
    }
   },
   "outputs": [],
   "source": [
    "check_list = ['comp_id', 'year', 'exit_year', 'sales', 'sales_x1', 'sales_x2', 'fechado']\n",
    "\n",
    "# Converte \"-\" para NaN\n",
    "data_2012['exit_year'].replace('-', np.nan, inplace=True)\n",
    "\n",
    "# Converte a coluna para float\n",
    "data_2012['exit_year'] = data_2012['exit_year'].astype(float)\n",
    "\n",
    "# Filtra o dataframe\n",
    "filtro = data_2012[check_list]\n",
    "filtro_sub = filtro[filtro['exit_year'] == 2012]\n",
    "filtro_sub"
   ]
  },
  {
   "cell_type": "code",
   "execution_count": null,
   "id": "6582ffa8-56f4-457e-9763-d369c1143e0c",
   "metadata": {
    "collapsed": false,
    "jupyter": {
     "outputs_hidden": false
    }
   },
   "outputs": [],
   "source": [
    "# Soma as colunas sales_x1 e sales_x2\n",
    "total_sales_x1 = filtro_sub['sales_x1'].sum()\n",
    "total_sales_x2 = filtro_sub['sales_x2'].sum()\n",
    "\n",
    "print(f'Total de sales_x1: {total_sales_x1}')\n",
    "print(f'Total de sales_x2: {total_sales_x2}')"
   ]
  },
  {
   "cell_type": "markdown",
   "id": "f683b4ef-2abc-4d2b-a728-433e2675ce4d",
   "metadata": {
    "collapsed": false,
    "jupyter": {
     "outputs_hidden": false
    }
   },
   "source": [
    "Algumas empresas que encerram as atividades até 31/12/2012 apresentam vendas durante o ano de 2012 mas não no ano seguinte, conforme o esperado. Como nosso objetivo é prever as empresas que estam ativas em 31/12/2012 e tem suas atividades encerradas em até dois anos, as empresas que encerram as atividades em 2012 são retiradas da base."
   ]
  },
  {
   "cell_type": "code",
   "execution_count": null,
   "id": "699c93f0-944a-4e97-bde6-bb2e0ee0f411",
   "metadata": {
    "collapsed": false,
    "jupyter": {
     "outputs_hidden": false
    }
   },
   "outputs": [],
   "source": [
    "# Retira empresas que encerraram a atitidade até 2012, portanto não estam ativa na data de corte da análise\n",
    "data_2012 = data_2012.copy()\n",
    "data_2012 = data_2012[data_2012['exit_year'] > 2012]\n",
    "\n",
    "# Verifica valores da coluna \"exit_year\"\n",
    "data_2012['exit_year'].value_counts()"
   ]
  },
  {
   "cell_type": "markdown",
   "id": "684cadeb-f458-4163-b7e2-461495d996de",
   "metadata": {
    "collapsed": false,
    "jupyter": {
     "outputs_hidden": false
    }
   },
   "source": [
    "### Tamanho da Empresa"
   ]
  },
  {
   "cell_type": "code",
   "execution_count": null,
   "id": "e7512ebd-286f-429d-886d-e7924e7a4a95",
   "metadata": {
    "collapsed": false,
    "jupyter": {
     "outputs_hidden": false
    }
   },
   "outputs": [],
   "source": [
    "# Considera apenas sales > 1000 e < 10000000\n",
    "data_2012 = data_2012[(data_2012['sales'] > 1000) & (data_2012['sales'] < 10000000) ]"
   ]
  },
  {
   "cell_type": "markdown",
   "id": "698bdb05-2c4f-4060-bcab-37f2cf06a281",
   "metadata": {
    "collapsed": false,
    "jupyter": {
     "outputs_hidden": false
    }
   },
   "source": [
    "## Tratamento de demais variáveis com MICE"
   ]
  },
  {
   "cell_type": "markdown",
   "id": "1dea85d8-35ca-4278-a27a-7970c99cbfaa",
   "metadata": {
    "collapsed": false,
    "jupyter": {
     "outputs_hidden": false
    }
   },
   "source": [
    "Os demais valores ausentes são preenchidos utilizando o método MICE (Multiple Imputation by Chained Equations) com a biblioteca 'IterativeImputer' do sklearn."
   ]
  },
  {
   "cell_type": "code",
   "execution_count": null,
   "id": "4770d4a7-8c42-4cd0-9ab1-186a6eff7fd1",
   "metadata": {
    "collapsed": false,
    "jupyter": {
     "outputs_hidden": false
    }
   },
   "outputs": [],
   "source": [
    "df_mice = data_2012.copy()\n",
    "df_mice.head()"
   ]
  },
  {
   "cell_type": "code",
   "execution_count": null,
   "id": "5ffc00e7-ba76-4423-a58a-0ea49d2f733a",
   "metadata": {
    "collapsed": false,
    "jupyter": {
     "outputs_hidden": false
    }
   },
   "outputs": [],
   "source": [
    "# Copia o df_mice para criar variáveis dummy\n",
    "df_mice2 = df_mice.copy()\n",
    "df_mice2 = pd.get_dummies(df_mice2)"
   ]
  },
  {
   "cell_type": "code",
   "execution_count": null,
   "id": "3d779189-e8d8-4a9e-8594-e356cdbfbb6c",
   "metadata": {
    "collapsed": false,
    "jupyter": {
     "outputs_hidden": false
    }
   },
   "outputs": [],
   "source": [
    "# Define Input de MICE e preenche NaN \n",
    "\n",
    "mice_imputer = IterativeImputer(estimator=linear_model.BayesianRidge(), n_nearest_features=None, imputation_order='ascending')\n",
    "df_mice_imputed = pd.DataFrame(mice_imputer.fit_transform(df_mice2), columns=df_mice2.columns)"
   ]
  },
  {
   "cell_type": "code",
   "execution_count": null,
   "id": "b56d2be6-b78b-4013-91b9-d5852f9db587",
   "metadata": {
    "collapsed": false,
    "jupyter": {
     "outputs_hidden": false
    }
   },
   "outputs": [],
   "source": [
    "df_mice_imputed.head()"
   ]
  },
  {
   "cell_type": "code",
   "execution_count": null,
   "id": "0c75e1d5-0587-4105-a1ff-60aa03fffda7",
   "metadata": {
    "collapsed": false,
    "jupyter": {
     "outputs_hidden": false
    }
   },
   "outputs": [],
   "source": [
    "missing_data_3 = show_missing(df_mice_imputed).sort_values(\"pc_missing\", ascending=False, ignore_index = True)\n",
    "\n",
    "index_full_data_3 = list(missing_data_3[missing_data_3[\"missing\"]==0].index)\n",
    "\n",
    "missing_data_3.drop(labels=index_full_data_3, axis=\"index\", inplace=True)\n",
    "\n",
    "missing_data_3"
   ]
  },
  {
   "cell_type": "code",
   "execution_count": null,
   "id": "2b87a984-3646-4cd0-ac2d-e80303578884",
   "metadata": {
    "collapsed": false,
    "jupyter": {
     "outputs_hidden": false
    }
   },
   "outputs": [],
   "source": [
    "# Verifica dados imputados \n",
    "\n",
    "# MICE imputação\n",
    "fig = plt.Figure()\n",
    "null_values = data_2012['labor_avg'].isnull() \n",
    "fig = df_mice_imputed.plot(x='sales', y='labor_avg', kind='scatter',\n",
    "                           c=null_values, cmap='winter', s = 15,\n",
    "                           title='MICE Imputation', colorbar=False)"
   ]
  },
  {
   "cell_type": "code",
   "execution_count": null,
   "id": "9ed92309-367c-487e-9c6e-339fc1b8b8a0",
   "metadata": {
    "collapsed": false,
    "jupyter": {
     "outputs_hidden": false
    }
   },
   "outputs": [],
   "source": [
    "data_2012.columns"
   ]
  },
  {
   "cell_type": "code",
   "execution_count": null,
   "id": "bfdc44b7-875e-4932-ad18-e143f950b353",
   "metadata": {
    "collapsed": false,
    "jupyter": {
     "outputs_hidden": false
    }
   },
   "outputs": [],
   "source": [
    "df_mice_imputed.columns"
   ]
  },
  {
   "cell_type": "markdown",
   "id": "3b8d833f-b27b-4201-a1dd-96d31d2476d7",
   "metadata": {
    "collapsed": false,
    "jupyter": {
     "outputs_hidden": false
    }
   },
   "source": [
    "Reverte o processo de pd.get_dummies com base no df_mice_imputed"
   ]
  },
  {
   "cell_type": "code",
   "execution_count": null,
   "id": "352b095e-469b-4a87-90c6-b2cee48baa6a",
   "metadata": {
    "collapsed": false,
    "jupyter": {
     "outputs_hidden": false
    }
   },
   "outputs": [],
   "source": [
    "# Dicionário que contém as colunas originais e suas respectivas colunas dummy\n",
    "categorical_cols_transformed = {\n",
    "    'exit_year': [col for col in df_mice_imputed.columns if 'exit_year' in col],\n",
    "    'gender': [col for col in df_mice_imputed.columns if 'gender_' in col],\n",
    "    'origin': [col for col in df_mice_imputed.columns if 'origin_' in col],\n",
    "    'region_m': [col for col in df_mice_imputed.columns if 'region_m_' in col]\n",
    "}\n",
    "\n",
    "# Para cada coluna original, encontra a coluna dummy com o valor mais alto (1) e restaura a coluna original\n",
    "for original_col, dummies in categorical_cols_transformed.items():\n",
    "    df_mice_imputed[original_col] = df_mice_imputed[dummies].idxmax(axis=1).str.replace(original_col + \"_\", \"\")\n",
    "    df_mice_imputed.drop(dummies, axis=1, inplace=True)"
   ]
  },
  {
   "cell_type": "code",
   "execution_count": null,
   "id": "738a4d28-be4c-4652-872b-00c4581913d0",
   "metadata": {
    "collapsed": false,
    "jupyter": {
     "outputs_hidden": false
    }
   },
   "outputs": [],
   "source": [
    "df_mice_imputed.columns"
   ]
  },
  {
   "cell_type": "markdown",
   "id": "a95164db-39c3-4c6a-9079-cfcb10024fd5",
   "metadata": {
    "collapsed": false,
    "jupyter": {
     "outputs_hidden": false
    }
   },
   "source": [
    "## Feature Engineering no Subset"
   ]
  },
  {
   "cell_type": "markdown",
   "id": "5f15f00e-3be5-4c11-8de5-7f4d2e6a0410",
   "metadata": {
    "collapsed": false,
    "jupyter": {
     "outputs_hidden": false
    }
   },
   "source": [
    "### Assimetria"
   ]
  },
  {
   "cell_type": "code",
   "execution_count": null,
   "id": "7c6a7b69-e9f8-4f45-b85c-2d96c50ba1ff",
   "metadata": {
    "collapsed": false,
    "jupyter": {
     "outputs_hidden": false
    }
   },
   "outputs": [],
   "source": [
    "# Filtra apenas colunas numéricas para calcular assimetria\n",
    "numeric_cols = df_mice_imputed.select_dtypes(include=[np.number]).columns # Avaliar a simetria das variáveis\n",
    "\n",
    "# Avalia a simetria das colunas numéricas\n",
    "skewness_values = df_mice_imputed[numeric_cols].skew()\n",
    "\n",
    "# Ordena os valores de assimetria do maior para o menor\n",
    "sorted_skewness_values = skewness_values.sort_values(ascending=False)\n",
    "\n",
    "# Mostra os valores de assimetria ordenados\n",
    "print(sorted_skewness_values)"
   ]
  },
  {
   "cell_type": "code",
   "execution_count": null,
   "id": "f1fd426f-4282-45cb-a8d8-9ab78bbff20c",
   "metadata": {
    "collapsed": false,
    "jupyter": {
     "outputs_hidden": false
    }
   },
   "outputs": [],
   "source": [
    "# Identifica colunas com assimetria significativamente diferente de zero\n",
    "cols_to_transform = skewness_values[skewness_values.abs() > 0.5].index\n",
    "print(cols_to_transform)"
   ]
  },
  {
   "cell_type": "markdown",
   "id": "a75faba3-9226-49c4-956a-2082c0923a09",
   "metadata": {
    "collapsed": false,
    "jupyter": {
     "outputs_hidden": false
    }
   },
   "source": [
    "Nas estatísticas descritivas abaixo, observa-se que a média é maior que o terceiro quartil, indicando uma distribuição bastante assimétrica. Criamos então uma coluna com o logarítmo de \"sales\" para auxiliar na análise."
   ]
  },
  {
   "cell_type": "code",
   "execution_count": null,
   "id": "2fc46eaf-8fbb-4399-81a5-78177a5ca8e4",
   "metadata": {
    "collapsed": false,
    "jupyter": {
     "outputs_hidden": false
    }
   },
   "outputs": [],
   "source": [
    "print(df_mice_imputed['sales'].describe())"
   ]
  },
  {
   "cell_type": "markdown",
   "id": "ea54217e-a198-4d9b-9851-ba190cdcdf91",
   "metadata": {
    "collapsed": false,
    "jupyter": {
     "outputs_hidden": false
    }
   },
   "source": [
    "A coluna log_sales mostra que, embora muitas empresas tenham vendas relativamente baixas (indicado por um logaritmo de vendas próximo ou igual a zero), há empresas que se destacam com vendas substancialmente mais altas. A transformação logarítmica ajuda a reduzir a assimetria e a concentrar os dados, tornando-os mais tratáveis para análise estatística e modelagem. No entanto, a presença de uma assimetria à esquerda ainda é evidente, sugerindo que muitas empresas no dataset têm vendas baixas ou nulas."
   ]
  },
  {
   "cell_type": "code",
   "execution_count": null,
   "id": "a8cceb7a-df1c-4c90-8e80-ddff54855a69",
   "metadata": {
    "collapsed": false,
    "jupyter": {
     "outputs_hidden": false
    }
   },
   "outputs": [],
   "source": [
    "# Transforma a coluna sales usando log\n",
    "df_mice_imputed.loc[:,'log_sales'] = df_mice_imputed.sales\\\n",
    "                                        .apply(lambda x: math.log(x)\\\n",
    "                                               if x != 0\\\n",
    "                                               else 0)\n",
    "\n",
    "# Mostra estatísticas descritivas da coluna log_sales\n",
    "print(df_mice_imputed.log_sales.describe())"
   ]
  },
  {
   "cell_type": "markdown",
   "id": "909f7848-b647-494c-92a6-667f44afb79a",
   "metadata": {
    "collapsed": false,
    "jupyter": {
     "outputs_hidden": false
    }
   },
   "source": [
    "#### \"sales\" vs \"log_sales\""
   ]
  },
  {
   "cell_type": "code",
   "execution_count": null,
   "id": "449d062d-bc37-4b4e-9bbe-a00498c7f230",
   "metadata": {
    "collapsed": false,
    "jupyter": {
     "outputs_hidden": false
    }
   },
   "outputs": [],
   "source": [
    "# Cria histogramas\n",
    "plt.figure(figsize=(12, 6))\n",
    "\n",
    "# Histograma de sales\n",
    "plt.subplot(1, 2, 1)\n",
    "plt.hist(df_mice_imputed['sales'], bins=50, color='blue', edgecolor='black')\n",
    "plt.title('Histograma de Sales')\n",
    "plt.xlabel('Sales')\n",
    "plt.ylabel('Frequência')\n",
    "\n",
    "# Histograma de log_sales\n",
    "plt.subplot(1, 2, 2)\n",
    "plt.hist(df_mice_imputed['log_sales'], bins=50, color='green', edgecolor='black')\n",
    "plt.title('Histograma de Log de Sales')\n",
    "plt.xlabel('Log Sales')\n",
    "plt.ylabel('Frequência')\n",
    "\n",
    "plt.tight_layout()\n",
    "plt.show()\n"
   ]
  },
  {
   "cell_type": "markdown",
   "id": "f9e60b98-2553-4991-9245-45639a3c1d9c",
   "metadata": {
    "collapsed": false,
    "jupyter": {
     "outputs_hidden": false
    }
   },
   "source": [
    "#### Idade da Empresa"
   ]
  },
  {
   "cell_type": "code",
   "execution_count": null,
   "id": "e7de706e-e533-4b7f-b908-b41f01825b1a",
   "metadata": {
    "collapsed": false,
    "jupyter": {
     "outputs_hidden": false
    }
   },
   "outputs": [],
   "source": [
    "df_mice_imputed['company_age'] = 2012 - df_mice_imputed['founded_year']"
   ]
  },
  {
   "cell_type": "markdown",
   "id": "88a8f9bc-b950-4c4e-bc2d-bef3abdc1237",
   "metadata": {
    "collapsed": false,
    "jupyter": {
     "outputs_hidden": false
    }
   },
   "source": [
    "#### Outras Features"
   ]
  },
  {
   "cell_type": "code",
   "execution_count": null,
   "id": "2f330ecb-3b12-458b-8d9f-e36c9650810f",
   "metadata": {
    "collapsed": false,
    "jupyter": {
     "outputs_hidden": false
    }
   },
   "outputs": [],
   "source": [
    "# 2. Alavancagem Financeira:\n",
    "#data_2012['financial_leverage'] = data_2012['curr_liab'] / data_2012['share_eq']"
   ]
  },
  {
   "cell_type": "code",
   "execution_count": null,
   "id": "56e070d8-1d2d-40b8-b518-3ee3da2defe3",
   "metadata": {
    "collapsed": false,
    "jupyter": {
     "outputs_hidden": false
    }
   },
   "outputs": [],
   "source": [
    "# 3. Liquidez:\n",
    "#data_2012['liquidity_ratio'] = data_2012['liq_assets'] / data_2012['curr_liab']"
   ]
  },
  {
   "cell_type": "code",
   "execution_count": null,
   "id": "faed7ee5-3efc-4015-afc2-135018f19e5e",
   "metadata": {
    "collapsed": false,
    "jupyter": {
     "outputs_hidden": false
    }
   },
   "outputs": [],
   "source": [
    "# 4. Eficiência:\n",
    "#data_2012['efficiency'] = data_2012['sales'] / data_2012['labor_avg']"
   ]
  },
  {
   "cell_type": "code",
   "execution_count": null,
   "id": "baddc272-835a-400d-a86d-f614e5573be3",
   "metadata": {
    "collapsed": false,
    "jupyter": {
     "outputs_hidden": false
    }
   },
   "outputs": [],
   "source": [
    "# 5. Tamanho da Empresa (exemplo baseado em vendas):\n",
    "#sales_bins = [0, 1e6, 1e9, float('inf')]  # Exemplo de categorias: <1M, 1M-1B, >1B\n",
    "#labels = ['small', 'medium', 'large']\n",
    "#data_2012['company_size'] = pd.cut(data_2012['sales'], bins=sales_bins, labels=labels, right=False)"
   ]
  },
  {
   "cell_type": "code",
   "execution_count": null,
   "id": "13441a22-b8e9-4806-b500-76597a6e5b9b",
   "metadata": {
    "collapsed": false,
    "jupyter": {
     "outputs_hidden": false
    }
   },
   "outputs": [],
   "source": [
    "# 5. Margem de Lucro:\n",
    "#data_2012['profit_margin'] = data_2012['profit_loss_year'] / data_2012['sales']"
   ]
  },
  {
   "cell_type": "markdown",
   "id": "0bbaa579-5ae1-4a60-9e60-e85d3b130db1",
   "metadata": {
    "collapsed": false,
    "jupyter": {
     "outputs_hidden": false
    }
   },
   "source": [
    "## Limpeza Final\n",
    "Como ultima manipulação dos dados, retiramos variáveis usadas na limpeza que não serão usadas na modelagem."
   ]
  },
  {
   "cell_type": "code",
   "execution_count": null,
   "id": "0f6547f7-6dd4-446f-9990-9814da787dc0",
   "metadata": {
    "collapsed": false,
    "jupyter": {
     "outputs_hidden": false
    }
   },
   "outputs": [],
   "source": [
    "df_mice_imputed = df_mice_imputed.drop(columns=['sales_x1','sales_x2', 'year'])"
   ]
  },
  {
   "cell_type": "markdown",
   "id": "0f5e0c00-da95-4c9b-a0df-d8cb87847599",
   "metadata": {
    "collapsed": false,
    "jupyter": {
     "outputs_hidden": false
    }
   },
   "source": [
    "## Matriz de correlação"
   ]
  },
  {
   "cell_type": "code",
   "execution_count": null,
   "id": "962b231c-8fe8-4fcf-81a9-3fd072c63012",
   "metadata": {
    "collapsed": false,
    "jupyter": {
     "outputs_hidden": false
    }
   },
   "outputs": [],
   "source": [
    "# Lista todas as colunas exceto \"dependente\"\n",
    "cols = [col for col in df_mice_imputed.columns if col != 'fechado']\n",
    "\n",
    "# Dividi as colunas em dois grupos\n",
    "half = len(cols) // 2\n",
    "group1 = cols[:half] + ['fechado']\n",
    "group2 = cols[half:] + ['fechado']\n",
    "\n",
    "# Considera apenas colunas numéricas\n",
    "group1 = [col for col in group2 if df_mice_imputed[col].dtype in ['int64', 'float64']]\n",
    "group2 = [col for col in group2 if df_mice_imputed[col].dtype in ['int64', 'float64']]\n",
    "\n",
    "# Cria as duas matrizes de correlação\n",
    "correlation_matrix1 = df_mice_imputed[group1].corr()\n",
    "correlation_matrix2 = df_mice_imputed[group2].corr()\n",
    "\n",
    "# Visualiza a primeira matriz de correlação\n",
    "plt.figure(figsize=(16,10))\n",
    "sns.heatmap(correlation_matrix1, annot=True, cmap='coolwarm')\n",
    "plt.title('Correlation Matrix - Group 1')\n",
    "plt.show()\n",
    "\n",
    "# Visualiza a segunda matriz de correlação\n",
    "plt.figure(figsize=(16,10))\n",
    "sns.heatmap(correlation_matrix2, annot=True, cmap='coolwarm')\n",
    "plt.title('Correlation Matrix - Group 2')\n",
    "plt.show()"
   ]
  },
  {
   "cell_type": "code",
   "execution_count": null,
   "id": "0b716441-c749-46ad-93eb-d4a9ae58cc8f",
   "metadata": {
    "collapsed": false,
    "jupyter": {
     "outputs_hidden": false
    }
   },
   "outputs": [],
   "source": [
    "missing_data_4 = show_missing(data_2012).sort_values(\"pc_missing\", ascending=False, ignore_index = True)\n",
    "\n",
    "#full_index = list(missing_data_4[missing_data_4[\"missing\"]==0].index)\n",
    "\n",
    "#missing_data_4.drop(labels=full_index, axis=\"index\", inplace=True)\n",
    "\n",
    "missing_data_4.sort_values(by=\"variable\", ignore_index=True)"
   ]
  },
  {
   "cell_type": "markdown",
   "id": "811f34ca",
   "metadata": {
    "collapsed": false,
    "jupyter": {
     "outputs_hidden": false
    }
   },
   "source": [
    "Confirmamos que o banco de dados final gerado está completo, sem dados faltando através do processo de limpeza com alterações e remoções."
   ]
  },
  {
   "cell_type": "markdown",
   "id": "87750ba3",
   "metadata": {
    "collapsed": false,
    "jp-MarkdownHeadingCollapsed": true,
    "jupyter": {
     "outputs_hidden": false
    }
   },
   "source": [
    "### Análise por agrupamento de variável dependente:\n",
    "---"
   ]
  },
  {
   "cell_type": "markdown",
   "id": "43fd455d",
   "metadata": {
    "collapsed": false,
    "jupyter": {
     "outputs_hidden": false
    }
   },
   "source": [
    "Vamos Agrupar as empresas marcadas pela variável dependente (fechada) para buscar visualizar algumas das tendências das empresas que fecharam no ano de 2012:"
   ]
  },
  {
   "cell_type": "code",
   "execution_count": null,
   "id": "d025c77a",
   "metadata": {
    "collapsed": false,
    "jupyter": {
     "outputs_hidden": false
    }
   },
   "outputs": [],
   "source": [
    "groups_2012 = df_mice_imputed.groupby(by=\"fechado\")\n",
    "# fechado = 1, aberto = 0\n",
    "\n",
    "df_groups = groups_2012.agg(['mean', 'median'])\n",
    "\n",
    "df_groups\n"
   ]
  },
  {
   "cell_type": "code",
   "execution_count": null,
   "id": "6a463576",
   "metadata": {
    "collapsed": false,
    "jupyter": {
     "outputs_hidden": false
    }
   },
   "outputs": [],
   "source": [
    "sns.boxplot(data=df_mice_imputed, x='fechado', y='company_age', \n",
    "            showfliers = False, medianprops = {\"color\":\"red\"})\n",
    "\n",
    "# Configuração do gráfico:\n",
    "plt.xlabel('Status de Operação (fechada)')\n",
    "plt.ylabel('Idade da empresa')\n",
    "plt.title('Idade de empresas fechadas vs abertas em 2012')\n",
    "\n",
    "# Show the plot\n",
    "plt.show()\n",
    "\n",
    "print(\"valores médios de idade da empresa:\")\n",
    "print(df_groups[\"company_age\"]['mean'])"
   ]
  },
  {
   "cell_type": "code",
   "execution_count": null,
   "id": "7284e04e",
   "metadata": {
    "collapsed": false,
    "jupyter": {
     "outputs_hidden": false
    }
   },
   "outputs": [],
   "source": [
    "fig, ax = plt.subplots(figsize=(10, 6))\n",
    "\n",
    "# Create histograms for each group using Seaborn\n",
    "sns.histplot(data=df_mice_imputed, x='company_age', hue='fechado', bins=20, alpha=0.5, ax=ax, kde=True)\n",
    "\n",
    "# Set labels and title\n",
    "ax.set_xlabel('Idade da empresa')\n",
    "ax.set_ylabel('Frequencia da Idade')\n",
    "ax.set_title('Histograma da Idade das empresas')\n",
    "\n",
    "# Show the plot\n",
    "plt.show()"
   ]
  },
  {
   "cell_type": "markdown",
   "id": "787bc631",
   "metadata": {
    "collapsed": false,
    "jupyter": {
     "outputs_hidden": false
    }
   },
   "source": [
    "Conseguimos observar que a mediana entre as empresas que fecharam e ficaram abertas é a mesma, assim como seus quartis inferiores, e ambas possuem uma variação alta nas empresas com idade acima da mediana. Assim podemos assumir que maiores idades podem ser um dos indicadores de maiores chances de não fechamento.\n",
    "\n",
    "Porém não demonstra forte diferença entre os dois cenários para ser uma variável forte para a predição."
   ]
  },
  {
   "cell_type": "markdown",
   "id": "7f65cc23",
   "metadata": {
    "collapsed": false,
    "jupyter": {
     "outputs_hidden": false
    }
   },
   "source": [
    "### Seleção de variáveis pelo método Stepwise:\n",
    "---\n",
    "Primeiro vamos verificar o formato das variáveis"
   ]
  },
  {
   "cell_type": "code",
   "execution_count": null,
   "id": "ad080bff",
   "metadata": {
    "collapsed": false,
    "jupyter": {
     "outputs_hidden": false
    }
   },
   "outputs": [],
   "source": [
    "#Tipos de variáveis do dataframe\n",
    "print(list(df_mice_imputed.dtypes.unique()))\n",
    "\n",
    "print(df_mice_imputed.select_dtypes(include='O'))\n",
    "\n",
    "col_obj = (list(df_mice_imputed.select_dtypes(include='O')))\n",
    "print(col_obj)"
   ]
  },
  {
   "cell_type": "markdown",
   "id": "909afd7c",
   "metadata": {
    "collapsed": false,
    "jupyter": {
     "outputs_hidden": false
    }
   },
   "source": [
    "Para aplicar o modelo precisamos de todas as variáveis em modelo numérico:"
   ]
  },
  {
   "cell_type": "code",
   "execution_count": null,
   "id": "15447279",
   "metadata": {
    "collapsed": false,
    "jupyter": {
     "outputs_hidden": false
    }
   },
   "outputs": [],
   "source": [
    "# Convertendo as colunas de objetos em dummies [0 ou 1]\n",
    "data_2012_num = pd.get_dummies(df_mice_imputed, columns=col_obj, dtype=\"uint8\")\n",
    "\n",
    "#data_2012_num.dtypes.unique()\n",
    "\n",
    "print(list(data_2012_num.select_dtypes(include='uint8')))"
   ]
  },
  {
   "cell_type": "markdown",
   "id": "51742c06",
   "metadata": {
    "collapsed": false,
    "jupyter": {
     "outputs_hidden": false
    }
   },
   "source": [
    "Vamos realizar um fit de modelos OLS (ordinary least squares) de regressão.\n",
    "\n",
    "Depois removemos as variáveis com os maiores valores de p-value do modelo (maior que 0.05)."
   ]
  },
  {
   "cell_type": "code",
   "execution_count": null,
   "id": "c5dcbe43",
   "metadata": {
    "collapsed": false,
    "jupyter": {
     "outputs_hidden": false
    }
   },
   "outputs": [],
   "source": [
    "import statsmodels.api as sm\n",
    "\n",
    "# X é a matrix de dados de variáveis preditoras\n",
    "X = data_2012_num.drop(columns=[\"fechado\"])\n",
    "# y é nossa variável de predição (\"fechado\" variável dependente)\n",
    "y = data_2012_num[\"fechado\"]\n",
    "\n",
    "\n",
    "# Adiciona uma constante (intercept) na matrix de variáveis\n",
    "X = sm.add_constant(X)\n",
    "\n",
    "# Fit do modelo inicial\n",
    "model = sm.OLS(y, X).fit()"
   ]
  },
  {
   "cell_type": "code",
   "execution_count": null,
   "id": "255667da",
   "metadata": {
    "collapsed": false,
    "jupyter": {
     "outputs_hidden": false
    }
   },
   "outputs": [],
   "source": [
    "# Realiza seleção stepwise:\n",
    "selected_features = model.model.exog_names[:]\n",
    "while True:\n",
    "    prev_model = model\n",
    "    p_values = model.pvalues[1:]  # Exclude the constant term\n",
    "    feature_to_remove = p_values.idxmax()\n",
    "    if p_values[feature_to_remove] > 0.05:\n",
    "        break\n",
    "    selected_features.remove(feature_to_remove)\n",
    "    X = X[selected_features]\n",
    "    model = sm.OLS(y, X).fit()\n",
    "\n",
    "# Final selected features\n",
    "print(\"Variáveis selecionadas:\", selected_features)\n",
    "print(f\"Quantidade de variáveis selecionadas: {len(selected_features)}\")\n",
    "print(f\"Total de variáveis: {len(data_2012_num.columns)}\")\n"
   ]
  },
  {
   "cell_type": "code",
   "execution_count": null,
   "id": "fe105f26",
   "metadata": {
    "collapsed": false,
    "jupyter": {
     "outputs_hidden": false
    }
   },
   "outputs": [],
   "source": [
    "# Resumo do modelo final\n",
    "summary = model.summary()\n",
    "summary.tables[1]"
   ]
  },
  {
   "cell_type": "code",
   "execution_count": null,
   "id": "ab110fb3",
   "metadata": {
    "collapsed": false,
    "jupyter": {
     "outputs_hidden": false
    }
   },
   "outputs": [],
   "source": [
    "# Pegando a tabela de valores dos coeficientes:\n",
    "coefficients = summary.tables[1]\n",
    "\n",
    "# Convertendo objeto para dataframe:\n",
    "coefficients_df = pd.DataFrame(coefficients.data[1:], columns=coefficients.data[0])\n",
    "\n",
    "# Renomeando últimas duas colunas para facilitar chamada:\n",
    "coefficients_df.rename(columns={\"[0.025\":\"lower\", \"0.975]\":\"upper\"}, inplace=True)\n",
    "\n",
    "#convertendo dados para numérico:\n",
    "coefficients_df[['std err', 't', 'lower', 'upper']] = coefficients_df[\n",
    "    ['std err', 't', 'lower', 'upper']\n",
    "].apply(pd.to_numeric)\n",
    "\n",
    "\n",
    "# Convertendo coef e p-value para floats individualmente:\n",
    "coefficients_df[['coef', 'P>|t|']] = coefficients_df[['coef', 'P>|t|']].astype(float)\n",
    "\n",
    "# Configurando display de float:\n",
    "pd.set_option('display.float_format', '{:,.8f}'.format)\n",
    "\n",
    "#display(coefficients_df)\n",
    "\n",
    "# Variáveis significantes:\n",
    "significant_features = coefficients_df[coefficients_df['P>|t|'] < 0.05]"
   ]
  },
  {
   "cell_type": "markdown",
   "id": "eb6580b7",
   "metadata": {
    "collapsed": false,
    "jupyter": {
     "outputs_hidden": false
    }
   },
   "source": [
    "Agora vamos ordenar por significancia nossas variáveis e verificar os resultados:"
   ]
  },
  {
   "cell_type": "code",
   "execution_count": null,
   "id": "017dc5fa",
   "metadata": {
    "collapsed": false,
    "jupyter": {
     "outputs_hidden": false
    }
   },
   "outputs": [],
   "source": [
    "sorted_features = significant_features.sort_values(by='coef', ascending=False)\n",
    "\n",
    "#Trocando o nome vazio por \"var\" de variável\n",
    "sorted_features.rename(columns={'':'var'}, inplace=True) \n",
    "\n",
    "display(sorted_features)\n",
    "\n",
    "list_features = list(sorted_features['var'].unique())\n",
    "print(list_features)\n",
    "print(len(list_features))"
   ]
  },
  {
   "cell_type": "markdown",
   "id": "3c5fdd40",
   "metadata": {
    "collapsed": false,
    "jupyter": {
     "outputs_hidden": false
    }
   },
   "source": [
    "Variáveis como \"comp_id\" número da impressa não deveriam interferir na predição pois são valores arbitrarios de registro de cada empresa."
   ]
  },
  {
   "cell_type": "markdown",
   "id": "b2006f88-38be-4d19-a53d-d36f62ca6d16",
   "metadata": {
    "collapsed": false,
    "jupyter": {
     "outputs_hidden": false
    }
   },
   "source": [
    "## Exportação da base tratada para modelagem"
   ]
  },
  {
   "cell_type": "code",
   "execution_count": null,
   "id": "20b842e4-3618-4bd1-9ba9-3b1018a09517",
   "metadata": {
    "collapsed": false,
    "jupyter": {
     "outputs_hidden": false
    }
   },
   "outputs": [],
   "source": [
    "df_mice_imputed.to_csv(\"data_2012.csv\", index=False)\n",
    "data_2012_num.to_csv(\"data_2012_numerical.csv\", index=False)"
   ]
  },
  {
   "cell_type": "code",
   "execution_count": null,
   "id": "b8056a2f-c9fb-49f7-b9d5-c787511a9406",
   "metadata": {
    "collapsed": false,
    "jupyter": {
     "outputs_hidden": false
    }
   },
   "outputs": [],
   "source": [
    "df_mice_imputed.columns"
   ]
  },
  {
   "cell_type": "code",
   "execution_count": null,
   "id": "6869dc4c",
   "metadata": {
    "collapsed": false,
    "jupyter": {
     "outputs_hidden": false
    }
   },
   "outputs": [],
   "source": [
    "data_2012_num.columns"
   ]
  },
  {
   "cell_type": "code",
   "execution_count": null,
   "id": "7536849b-384e-435e-be06-d04165b4470a",
   "metadata": {
    "collapsed": false,
    "jupyter": {
     "outputs_hidden": false
    }
   },
   "outputs": [],
   "source": [
    "#data_2012.to_excel(\"data_2012.xlsx\")"
   ]
  }
 ],
 "metadata": {
  "kernelspec": {
   "display_name": "Python 3 (ipykernel)",
   "language": "python",
   "name": "python3"
  },
  "language_info": {
   "codemirror_mode": {
    "name": "ipython",
    "version": 3
   },
   "file_extension": ".py",
   "mimetype": "text/x-python",
   "name": "python",
   "nbconvert_exporter": "python",
   "pygments_lexer": "ipython3",
   "version": "3.11.4"
  },
  "name": "Tratamento_de_dados.ipynb"
 },
 "nbformat": 4,
 "nbformat_minor": 5
}
